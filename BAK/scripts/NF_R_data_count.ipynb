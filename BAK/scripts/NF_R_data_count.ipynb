{
 "cells": [
  {
   "cell_type": "code",
   "execution_count": null,
   "metadata": {},
   "outputs": [],
   "source": [
    "desired_file_prefix = \"NF_R\" \n",
    "\n",
    "normalize_data=True\n",
    "\n",
    "try:\n",
    "    if (len(desired_file_output) == 0):\n",
    "        desired_file_output = \"\"\n",
    "except:\n",
    "    desired_file_output = \"\" \n",
    "\n",
    "%run ./analysis-code.ipynb"
   ]
  },
  {
   "cell_type": "code",
   "execution_count": null,
   "metadata": {},
   "outputs": [],
   "source": []
  }
 ],
 "metadata": {
  "kernelspec": {
   "display_name": "Python 3 (ipykernel)",
   "language": "python",
   "name": "python3"
  },
  "language_info": {
   "codemirror_mode": {
    "name": "ipython",
    "version": 3
   },
   "file_extension": ".py",
   "mimetype": "text/x-python",
   "name": "python",
   "nbconvert_exporter": "python",
   "pygments_lexer": "ipython3",
   "version": "3.8.10"
  }
 },
 "nbformat": 4,
 "nbformat_minor": 4
}
