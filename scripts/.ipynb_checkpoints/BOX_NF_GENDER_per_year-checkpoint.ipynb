{
 "cells": [
  {
   "cell_type": "code",
   "execution_count": null,
   "metadata": {},
   "outputs": [],
   "source": [
    "import os\n",
    "\n",
    "try:\n",
    "    os.mkdir(\"../PLOTS/NF_BOX_GENDER\")\n",
    "except:\n",
    "    print(\"NF_BOX_GENDER dir exists.\")\n",
    "\n",
    "#For testing, leave commented\n",
    "swivel = 1\n",
    "\n",
    "# Avg order F \n",
    "#swivel_order = [2, 1, 7, 3, 16, 6, 12, 9, 10, 4, 5, 15, 8, 14, 20, 0, 22, 13, 19, 11, 18, 21, 17]\n",
    "\n",
    "# Avg order NF \n",
    "swivel_order = [22, 2, 6, 1, 3, 0, 4, 8, 7, 15, 5, 14, 16, 9, 12, 18, 20, 17, 13, 10, 19, 21, 11]\n",
    "\n",
    "desired_file_prefix = \"NF_GENDER\" \n",
    "\n",
    "normalize_data=True\n",
    "\n",
    "lnconvert=False"
   ]
  },
  {
   "cell_type": "code",
   "execution_count": null,
   "metadata": {},
   "outputs": [],
   "source": []
  },
  {
   "cell_type": "code",
   "execution_count": null,
   "metadata": {},
   "outputs": [],
   "source": [
    "\n",
    "by_year = 1\n",
    "\n",
    "\n",
    "# per year\n",
    "#\n",
    "desired_file_prefix = \"NF_GENDER\" \n",
    "male_global_y_soc1 = []\n",
    "female_global_y_soc1 = []\n",
    "\n",
    "for year in range(0,8):       \n",
    "    desired_file_output = \"./NF_BOX_GENDER/NF_GENDER_\" + str(2011+year) + \"_\"    \n",
    "    %run ./box-analysis-code-gender.ipynb"
   ]
  },
  {
   "cell_type": "markdown",
   "metadata": {},
   "source": [
    "# Male boxblots"
   ]
  },
  {
   "cell_type": "code",
   "execution_count": null,
   "metadata": {
    "tags": []
   },
   "outputs": [],
   "source": [
    "### Creating pandas |dataframe from numpy array\n",
    "#pd_data_df = pd.DataFrame({ global_y_soc1[0][0] : global_y_soc1[0][1] })\n",
    "pd_df = pd.DataFrame()\n",
    "\n",
    "global_y_soc1 = male_global_y_soc1\n",
    "\n",
    "for index in range(0,len(global_y_soc1)):\n",
    "    pd_df[global_y_soc1[index][0]] = global_y_soc1[index][1]\n",
    "\n",
    "#print(pd_df)\n",
    "\n",
    "title = desired_file_prefix + \" MALE boxplots\"\n",
    "plt.figure(title,figsize=(10, 10))\n",
    "plt.title(title)\n",
    "\n",
    "#plt.ylim(0.0, 0.15)\n",
    "\n",
    "pd_df.boxplot()\n",
    "plt.xticks(rotation = 90)\n",
    "plt.tight_layout()\n",
    "\n",
    "save_title = \"../PLOTS/\" + desired_file_output + title + \".png\"\n",
    "save_title = save_title.replace(\",\",\"\")\n",
    "save_title = save_title.replace(\" \",\"_\")\n",
    "plt.savefig(save_title, dpi=100, bbox_inches='tight')\n",
    "plt.savefig(save_title, dpi=100, bbox_inches='tight')"
   ]
  },
  {
   "cell_type": "markdown",
   "metadata": {},
   "source": [
    "# Female boxplots"
   ]
  },
  {
   "cell_type": "code",
   "execution_count": null,
   "metadata": {},
   "outputs": [],
   "source": [
    "# Creating pandas |dataframe from numpy array\n",
    "#pd_data_df = pd.DataFrame({ global_y_soc1[0][0] : global_y_soc1[0][1] })\n",
    "pd_df = pd.DataFrame()\n",
    "\n",
    "global_y_soc1 = female_global_y_soc1\n",
    "\n",
    "for index in range(0,len(global_y_soc1)):\n",
    "    pd_df[global_y_soc1[index][0]] = global_y_soc1[index][1]\n",
    "\n",
    "#print(pd_df)\n",
    "\n",
    "title = desired_file_prefix + \" FEMALE boxplots\"\n",
    "plt.figure(title,figsize=(10, 10))\n",
    "plt.title(title)\n",
    "\n",
    "#plt.ylim(0.0, 0.15)\n",
    "\n",
    "pd_df.boxplot()\n",
    "plt.xticks(rotation = 90)\n",
    "plt.tight_layout()\n",
    "\n",
    "save_title = \"../PLOTS/\" + desired_file_output + title + \".png\"\n",
    "save_title = save_title.replace(\",\",\"\")\n",
    "save_title = save_title.replace(\" \",\"_\")\n",
    "plt.savefig(save_title, dpi=100, bbox_inches='tight')\n",
    "plt.savefig(save_title, dpi=100, bbox_inches='tight')"
   ]
  },
  {
   "cell_type": "code",
   "execution_count": null,
   "metadata": {},
   "outputs": [],
   "source": []
  },
  {
   "cell_type": "code",
   "execution_count": null,
   "metadata": {},
   "outputs": [],
   "source": []
  },
  {
   "cell_type": "markdown",
   "metadata": {},
   "source": [
    "# SOC GENDER BOXPLOTS"
   ]
  },
  {
   "cell_type": "code",
   "execution_count": null,
   "metadata": {},
   "outputs": [],
   "source": [
    "alist = [\n",
    "    [\"F_GMX Male\", male_global_y_soc1],\n",
    "    [\"F_GFX Female\", female_global_y_soc1] ]\n",
    "\n",
    "for arr in alist:\n",
    "    use_case= arr[0]\n",
    "    data    = arr[1]\n",
    "    \n",
    "    soc_box = []\n",
    "\n",
    "    for soc_index in range (0,23):\n",
    "        tmp = []\n",
    "        avg = np.zeros(23)\n",
    "        for y_index in range(0,8):\n",
    "            #avg = ( np.array(male_global_y_soc1[y_index][1][soc_index]) + np.array(female_global_y_soc1[y_index][1][soc_index]) )/2\n",
    "            #avg = a35_global_y_soc1[y_index][1][soc_index]\n",
    "            avg = data[y_index][1][soc_index]\n",
    "            tmp.append(avg)\n",
    "         \n",
    "        soc_box.append(tmp)    \n",
    "    #print(soc_box)\n",
    "\n",
    "    # BOX PLOT per occupation\n",
    "    jlist = []\n",
    "    for jb in range(1,24):\n",
    "       jlist.append(job_code[jb][1])\n",
    "    #print(jlist)\n",
    "\n",
    "    #print(jlist[22])\n",
    "\n",
    "    # Creating pandas |dataframe from numpy array\n",
    "    #pd_data_df = pd.DataFrame({ global_y_soc1[0][0] : global_y_soc1[0][1] })\n",
    "    pd_df = pd.DataFrame(columns=jlist)\n",
    "\n",
    "    #global_y_soc1 = female_global_y_soc1\n",
    "\n",
    "    for index in range(0,23):\n",
    "        pd_df[jlist[index]] = soc_box[index]\n",
    "\n",
    "    title = use_case + \" SOC boxplots\"\n",
    "    plt.figure(title,figsize=(10, 10))\n",
    "    plt.title(title)\n",
    "\n",
    "    pd_df.boxplot()\n",
    "    plt.xticks(rotation = 90)\n",
    "    plt.tight_layout()\n",
    "\n",
    "    save_title = \"../PLOTS/\" + desired_file_output + title + \".png\"\n",
    "    save_title = save_title.replace(\",\",\"\")\n",
    "    save_title = save_title.replace(\" \",\"_\")\n",
    "    plt.savefig(save_title, dpi=100, bbox_inches='tight')\n",
    "    plt.savefig(save_title, dpi=100, bbox_inches='tight')\n",
    "    \n",
    "    \n",
    "    plt.show()\n",
    "    plt.close()\n",
    "\n",
    "    print(\"STDEV for \" + use_case)\n",
    "    \n",
    "    title =  use_case + \" STDEV(RED) and MEAN(GREEN)\"\n",
    "    \n",
    "    # Creating plot with dataset_1\n",
    "    fig, ax1 = plt.subplots(figsize=(10, 10))\n",
    "    plt.title(title)\n",
    "    \n",
    "    ax1.plot(pd_df.std(), 'r-')\n",
    "\n",
    "    plt.xticks(rotation = 90)\n",
    "    \n",
    "    ax2 = ax1.twinx()\n",
    "    ax2.plot(pd_df.mean(), 'g-')\n",
    "    \n",
    "    ax1.tick_params(axis='y', colors='red')\n",
    "    ax2.tick_params(axis='y', colors='green')\n",
    "    \n",
    "    save_title = \"../PLOTS/\" + desired_file_output + title + \".png\"\n",
    "    save_title = save_title.replace(\",\",\"\")\n",
    "    save_title = save_title.replace(\" \",\"_\")\n",
    "    plt.savefig(save_title, dpi=100, bbox_inches='tight')\n",
    "    plt.savefig(save_title, dpi=100, bbox_inches='tight')\n",
    "    plt.show()\n",
    "    plt.close()   "
   ]
  },
  {
   "cell_type": "code",
   "execution_count": null,
   "metadata": {},
   "outputs": [],
   "source": []
  },
  {
   "cell_type": "code",
   "execution_count": null,
   "metadata": {},
   "outputs": [],
   "source": []
  },
  {
   "cell_type": "code",
   "execution_count": null,
   "metadata": {},
   "outputs": [],
   "source": []
  }
 ],
 "metadata": {
  "kernelspec": {
   "display_name": "Python 3 (ipykernel)",
   "language": "python",
   "name": "python3"
  },
  "language_info": {
   "codemirror_mode": {
    "name": "ipython",
    "version": 3
   },
   "file_extension": ".py",
   "mimetype": "text/x-python",
   "name": "python",
   "nbconvert_exporter": "python",
   "pygments_lexer": "ipython3",
   "version": "3.8.10"
  }
 },
 "nbformat": 4,
 "nbformat_minor": 4
}
