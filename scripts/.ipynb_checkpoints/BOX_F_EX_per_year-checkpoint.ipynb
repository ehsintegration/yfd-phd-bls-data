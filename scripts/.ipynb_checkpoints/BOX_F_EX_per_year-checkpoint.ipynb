{
 "cells": [
  {
   "cell_type": "code",
   "execution_count": null,
   "metadata": {},
   "outputs": [],
   "source": [
    "import os\n",
    "\n",
    "try:\n",
    "    os.mkdir(\"../PLOTS/F_BOX_EX\")\n",
    "except:\n",
    "    print(\"F_BOX_EX dir exists.\")\n",
    "\n",
    "#For testing, leave commented\n",
    "swivel = 1\n",
    "swivel_order = [2, 1, 7, 3, 16, 6, 12, 9, 10, 4, 5, 15, 8, 14, 20, 0, 22, 13, 19, 11, 18, 21, 17]\n",
    "\n",
    "desired_file_prefix = \"F_E\" \n",
    "\n",
    "normalize_data=True\n",
    "\n",
    "lnconvert = False"
   ]
  },
  {
   "cell_type": "code",
   "execution_count": null,
   "metadata": {},
   "outputs": [],
   "source": []
  },
  {
   "cell_type": "code",
   "execution_count": null,
   "metadata": {},
   "outputs": [],
   "source": [
    "by_year = 1\n",
    "\n",
    "# All genders all years\n",
    "desired_file_prefix = \"F_E\" \n",
    "year = 8\n",
    "rsq_avg = []\n",
    "desired_file_output = \"./F_BOX_EX/F_EX_ALL_\"\n",
    "%run ./box-analysis-code-ex.ipynb\n",
    "\n",
    "\n",
    "# per year\n",
    "#\n",
    "desired_file_prefix = \"F_E\" \n",
    "e1_global_y_soc1 = []\n",
    "e2_global_y_soc1 = []\n",
    "e3_global_y_soc1 = []\n",
    "e4_global_y_soc1 = []\n",
    "e5_global_y_soc1 = []\n",
    "e6_global_y_soc1 = []\n",
    "\n",
    "\n",
    "for year in range(0,8):       \n",
    "    desired_file_output = \"./F_BOX_EX/F_EX_\" + str(2011+year) + \"_\"    \n",
    "    %run ./box-analysis-code-ex.ipynb"
   ]
  },
  {
   "cell_type": "markdown",
   "metadata": {},
   "source": [
    "# Boxplots"
   ]
  },
  {
   "cell_type": "code",
   "execution_count": null,
   "metadata": {
    "tags": []
   },
   "outputs": [],
   "source": [
    "print(e1_global_y_soc1)"
   ]
  },
  {
   "cell_type": "code",
   "execution_count": null,
   "metadata": {
    "tags": []
   },
   "outputs": [],
   "source": [
    "### Creating pandas |dataframe from numpy array\n",
    "#pd_data_df = pd.DataFrame({ global_y_soc1[0][0] : global_y_soc1[0][1] })\n",
    "pd_df = pd.DataFrame()\n",
    "\n",
    "global_y_soc1 = e1_global_y_soc1\n",
    "\n",
    "for index in range(0,len(global_y_soc1)):\n",
    "    pd_df[global_y_soc1[index][0]] = global_y_soc1[index][1]\n",
    "\n",
    "#print(pd_df)\n",
    "\n",
    "title = desired_file_prefix + \" boxplots\"\n",
    "plt.figure(title,figsize=(10, 10))\n",
    "plt.title(title)\n",
    "\n",
    "#plt.ylim(0.0, 0.15)\n",
    "\n",
    "pd_df.boxplot()\n",
    "plt.xticks(rotation = 90)\n",
    "plt.tight_layout()\n",
    "\n",
    "save_title = \"../PLOTS/\" + desired_file_output + title + \".png\"\n",
    "save_title = save_title.replace(\",\",\"\")\n",
    "save_title = save_title.replace(\" \",\"_\")\n",
    "plt.savefig(save_title, dpi=100, bbox_inches='tight')\n",
    "plt.savefig(save_title, dpi=100, bbox_inches='tight')"
   ]
  },
  {
   "cell_type": "markdown",
   "metadata": {
    "tags": []
   },
   "source": []
  },
  {
   "cell_type": "code",
   "execution_count": null,
   "metadata": {},
   "outputs": [],
   "source": []
  },
  {
   "cell_type": "code",
   "execution_count": null,
   "metadata": {},
   "outputs": [],
   "source": [
    "print(job_code)"
   ]
  },
  {
   "cell_type": "code",
   "execution_count": null,
   "metadata": {},
   "outputs": [],
   "source": [
    "print(str(e6_global_y_soc1[0][0])[5:])"
   ]
  },
  {
   "cell_type": "markdown",
   "metadata": {},
   "source": [
    "# SOC GENDER BOXPLOTS"
   ]
  },
  {
   "cell_type": "code",
   "execution_count": null,
   "metadata": {
    "tags": []
   },
   "outputs": [],
   "source": [
    "alist = [\n",
    "    [\"F_E1X Violence person animals\", e1_global_y_soc1],\n",
    "    [\"F_E2X Transportation\", e2_global_y_soc1],\n",
    "    [\"F_E3X Fires and explosions\", e3_global_y_soc1],\n",
    "    [\"F_E4X Falls slips trips\", e4_global_y_soc1],\n",
    "    [\"F_E5X Substance enviroment\", e5_global_y_soc1],\n",
    "    [\"F_E6X Contact object equipment\", e6_global_y_soc1] ]\n",
    "\n",
    "for arr in alist:\n",
    "    use_case= arr[0]\n",
    "    data    = arr[1]\n",
    "    \n",
    "    soc_box = []\n",
    "\n",
    "    for soc_index in range (0,23):\n",
    "        tmp = []\n",
    "        avg = np.zeros(23)\n",
    "        for y_index in range(0,8):\n",
    "            #avg = ( np.array(male_global_y_soc1[y_index][1][soc_index]) + np.array(female_global_y_soc1[y_index][1][soc_index]) )/2\n",
    "            #avg = a35_global_y_soc1[y_index][1][soc_index]\n",
    "            avg = data[y_index][1][soc_index]\n",
    "            tmp.append(avg)\n",
    "         \n",
    "        soc_box.append(tmp)    \n",
    "    #print(soc_box)\n",
    "\n",
    "    # BOX PLOT per occupation\n",
    "    jlist = []\n",
    "    for jb in range(1,24):\n",
    "       jlist.append(job_code[jb][1])\n",
    "    #print(jlist)\n",
    "\n",
    "    #print(jlist[22])\n",
    "\n",
    "    # Creating pandas |dataframe from numpy array\n",
    "    #pd_data_df = pd.DataFrame({ global_y_soc1[0][0] : global_y_soc1[0][1] })\n",
    "    pd_df = pd.DataFrame(columns=jlist)\n",
    "\n",
    "    #global_y_soc1 = female_global_y_soc1\n",
    "\n",
    "    for index in range(0,23):\n",
    "        pd_df[jlist[index]] = soc_box[index]\n",
    "\n",
    "    title = use_case + \" SOC boxplots\"\n",
    "    plt.figure(title,figsize=(10, 10))\n",
    "    plt.title(title)\n",
    "\n",
    "    pd_df.boxplot()\n",
    "    plt.xticks(rotation = 90)\n",
    "    plt.tight_layout()\n",
    "\n",
    "    save_title = \"../PLOTS/\" + desired_file_output + title + \".png\"\n",
    "    save_title = save_title.replace(\",\",\"\")\n",
    "    save_title = save_title.replace(\" \",\"_\")\n",
    "    plt.savefig(save_title, dpi=100, bbox_inches='tight')\n",
    "    plt.savefig(save_title, dpi=100, bbox_inches='tight')\n",
    "    \n",
    "    plt.show()\n",
    "    plt.close()\n",
    "\n",
    "    title =  use_case + \" STDEV per occupation\"\n",
    "    plt.figure(title,figsize=(10, 10))\n",
    "    plt.title(title)\n",
    "    plt.xticks(rotation = 90)\n",
    "    plt.tight_layout()\n",
    "    \n",
    "    plt.plot(pd_df.std())\n",
    "    \n",
    "    save_title = \"../PLOTS/\" + desired_file_output + title + \".png\"\n",
    "    save_title = save_title.replace(\",\",\"\")\n",
    "    save_title = save_title.replace(\" \",\"_\")\n",
    "    plt.savefig(save_title, dpi=100, bbox_inches='tight')\n",
    "    plt.savefig(save_title, dpi=100, bbox_inches='tight')\n",
    "    plt.show()\n",
    "    plt.close()"
   ]
  },
  {
   "cell_type": "code",
   "execution_count": null,
   "metadata": {},
   "outputs": [],
   "source": []
  },
  {
   "cell_type": "code",
   "execution_count": null,
   "metadata": {},
   "outputs": [],
   "source": []
  },
  {
   "cell_type": "code",
   "execution_count": null,
   "metadata": {},
   "outputs": [],
   "source": []
  }
 ],
 "metadata": {
  "kernelspec": {
   "display_name": "Python 3 (ipykernel)",
   "language": "python",
   "name": "python3"
  },
  "language_info": {
   "codemirror_mode": {
    "name": "ipython",
    "version": 3
   },
   "file_extension": ".py",
   "mimetype": "text/x-python",
   "name": "python",
   "nbconvert_exporter": "python",
   "pygments_lexer": "ipython3",
   "version": "3.8.10"
  }
 },
 "nbformat": 4,
 "nbformat_minor": 4
}
