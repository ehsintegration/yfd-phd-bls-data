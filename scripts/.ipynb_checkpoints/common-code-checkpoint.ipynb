{
 "cells": [
  {
   "cell_type": "code",
   "execution_count": 1,
   "metadata": {},
   "outputs": [],
   "source": [
    "# Used to get zoom-able & resize-able notebook. This is the best for quick tests where you need to work interactively.\n",
    "# %matplotlib notebook   \n",
    "%matplotlib inline\n",
    "\n",
    "# this only draws the images, not interactive / zoom-able but it works well. I recommend to change figure size to be bigger than the default in most cases\n",
    "#%matplotlib inline"
   ]
  },
  {
   "cell_type": "code",
   "execution_count": 2,
   "metadata": {},
   "outputs": [],
   "source": [
    "# Used for high quality plot\n",
    "%config InlineBackend.figure_format = 'svg'"
   ]
  },
  {
   "cell_type": "code",
   "execution_count": 3,
   "metadata": {},
   "outputs": [],
   "source": [
    "import numpy as np\n",
    "import matplotlib.pyplot as plt\n",
    "import time\n",
    "import matplotlib.dates as mdates\n",
    "import datetime\n",
    "import math\n",
    "from scipy import optimize\n",
    "import pandas as pd\n",
    "from sklearn.linear_model import LinearRegression\n",
    "import statsmodels.api as sm"
   ]
  },
  {
   "cell_type": "markdown",
   "metadata": {},
   "source": [
    "## Get List of Files\n",
    "Get the list of files from the directory that we are interested in,\n",
    "the DATA folder\n"
   ]
  },
  {
   "cell_type": "code",
   "execution_count": 24,
   "metadata": {},
   "outputs": [
    {
     "name": "stdout",
     "output_type": "stream",
     "text": [
      "SOC_all.csv\n"
     ]
    }
   ],
   "source": [
    "import os\n",
    "\n",
    "filelist = os.listdir('../DATA')\n",
    "\n",
    "desired_file = \"SOC_all.csv\" \n",
    "\n",
    "soc = []\n",
    "\n",
    "for file in filelist:\n",
    "    if (file.find(desired_file)==0):\n",
    "        print(file)\n",
    "        fname = \"../DATA/\"+file\n",
    "        afile = open(fname, \"r\")\n",
    "        data = afile.read()\n",
    "        data = data.replace(\"\\\"\",\"\")\n",
    "        soc.append(data)\n",
    "        #print(data)\n",
    "        afile.close()\n",
    "        \n",
    "#print(soc[0])"
   ]
  },
  {
   "cell_type": "code",
   "execution_count": 25,
   "metadata": {},
   "outputs": [],
   "source": [
    "# Create a dictionary of soc_codes\n",
    "#\n",
    "soc_dict = {}\n",
    "\n",
    "line = soc[0].replace(\"\\\"\",\"\")\n",
    "soc_array= line.split(\"\\n\")\n",
    "\n",
    "# Create Dictionary of SOC codes\n",
    "#\n",
    "for line in soc_array:\n",
    "    key  = line[0:7].replace(\"-\",\"\")\n",
    "    data = line[9:]\n",
    "    soc_dict.setdefault(key, []).append(data)\n",
    "    \n",
    "#index = 0\n",
    "#for key in soc_dict:\n",
    "#    print(index, key, soc_dict[key])\n",
    "#    index = index + 1"
   ]
  },
  {
   "cell_type": "code",
   "execution_count": 31,
   "metadata": {},
   "outputs": [],
   "source": [
    "#print(soc_array)"
   ]
  },
  {
   "cell_type": "code",
   "execution_count": 26,
   "metadata": {},
   "outputs": [
    {
     "name": "stdout",
     "output_type": "stream",
     "text": [
      "global_y_soc1 not found....defining\n"
     ]
    }
   ],
   "source": [
    "try:\n",
    "    if (len(global_y_soc1) >= 0):\n",
    "        print(\"global_y_soc1 found.\")\n",
    "except:\n",
    "    print(\"global_y_soc1 not found....defining\")\n",
    "    #global_y_soc1=np.zeros(23)\n",
    "    global_y_soc1 = []"
   ]
  },
  {
   "cell_type": "code",
   "execution_count": 33,
   "metadata": {},
   "outputs": [],
   "source": [
    "#del global_y_soc1"
   ]
  },
  {
   "cell_type": "code",
   "execution_count": 34,
   "metadata": {},
   "outputs": [],
   "source": [
    "#global_y_soc1=np.zeros(23)"
   ]
  },
  {
   "cell_type": "code",
   "execution_count": 27,
   "metadata": {},
   "outputs": [
    {
     "name": "stdout",
     "output_type": "stream",
     "text": [
      "global_soc1_empty not found....defining\n"
     ]
    }
   ],
   "source": [
    "# Holds the list of soc job codes that contain mostly zero data\n",
    "\n",
    "try:\n",
    "    if (len(global_soc1_empty) >= 0):\n",
    "        print(\"global_soc1_empty found.\")\n",
    "except:\n",
    "    print(\"global_soc1_empty not found....defining\")\n",
    "    global_soc1_empty = []\n",
    "    \n",
    "no_data_threshold = 1.0e-05"
   ]
  },
  {
   "cell_type": "markdown",
   "metadata": {},
   "source": [
    "# 2018 SOC JOB CODES\n",
    "  "
   ]
  },
  {
   "cell_type": "code",
   "execution_count": 31,
   "metadata": {},
   "outputs": [],
   "source": [
    "#print(soc_2018_code[0][0])"
   ]
  },
  {
   "cell_type": "code",
   "execution_count": null,
   "metadata": {},
   "outputs": [],
   "source": [
    "# OLD code\n",
    "\n",
    "soc_new_code = [\n",
    "    ['00-0000',  'All Occupations'],\n",
    "    ['11-0000',  'Management Occupations'],\n",
    "    ['13-0000',  'Business and Financial Operations Occupations'],\n",
    "    ['15-0000',  'Computer and Mathematical Occupations'],\n",
    "    ['17-0000',  'Architecture and Engineering Occupations'],\n",
    "    ['19-0000',  'Life, Physical, and Social Science Occupations'],\n",
    "    ['21-0000',  'Community and Social Service Occupations'],\n",
    "    ['23-0000',  'Legal Occupations'],\n",
    "    ['25-0000',  'Educational Instruction and Library Occupations'],\n",
    "    ['27-0000',  'Arts, Design, Entertainment, Sports, and Media Occupations'],\n",
    "    ['29-0000',  'Healthcare Practitioners and Technical Occupations'],\n",
    "    ['31-0000',  'Healthcare Support Occupations'],\n",
    "    ['33-0000',  'Protective Service Occupations'],\n",
    "    ['35-0000',  'Food Preparation and Serving Related Occupations'],\n",
    "    ['37-0000',  'Building and Grounds Cleaning and Maintenance Occupations'],\n",
    "    ['39-0000',  'Personal Care and Service Occupations'],\n",
    "    ['41-0000',  'Sales and Related Occupations'],\n",
    "    ['43-0000',  'Office and Administrative Support Occupations'],\n",
    "    ['45-0000',  'Farming, Fishing, and Forestry Occupations'],\n",
    "    ['47-0000',  'Construction and Extraction Occupations'],\n",
    "    ['49-0000',  'Installation, Maintenance, and Repair Occupations'],\n",
    "    ['51-0000',  'Production Occupations'],\n",
    "    ['53-0000',  'Transportation and Material Moving Occupations'],\n",
    "    ['55-0000',  'Military Specific Occupations'] ]\n",
    "\n",
    "if (swivel == 1):\n",
    "    \n",
    "    soc_swivel_code = []\n",
    "    jobcode = str(soc_new_code[0][0])\n",
    "    jobdesc = str(soc_new_code[0][1])\n",
    "    soc_swivel_code.append([jobcode,jobdesc]) \n",
    "    \n",
    "    for i in range(0,len(swivel_order)):\n",
    "        #print(i)\n",
    "        jobcode = str(soc_new_code[i+1][0])\n",
    "        jobdesc = str(soc_new_code[ int(swivel_order[i]) + 1 ][1])\n",
    "        soc_swivel_code.append([jobcode,jobdesc]) \n",
    "        #print(soc_new_code[i+1])\n",
    "        #print(soc_swivel_code[i+1])\n",
    "else:\n",
    "    soc_swivel_code = soc_new_code.copy()\n",
    "    \n",
    "#print(\"SOC CODES\")\n",
    "#print(soc_new_code)\n",
    "#print(\"SOC CODES SWIVEL\")\n",
    "#print(soc_swivel_code)"
   ]
  },
  {
   "cell_type": "markdown",
   "metadata": {},
   "source": [
    "## Sector totals for data normalization"
   ]
  },
  {
   "cell_type": "code",
   "execution_count": 4,
   "metadata": {},
   "outputs": [],
   "source": [
    "# Sector totals for data normalization\n",
    "\n",
    "total_female=[7305,4082,1312,519,714,1782,976,6817,1573,7065,3161,721,4562,2418,4573,7808,12641,272,283,185,2483,1795,203]\n",
    "\n",
    "total_male=[10958,3505,3814,2744,815,898,915,2496,1789,2355,468,2482,3658,3436,1374,7998,5014,849,8055,4827,6138,8123,1213]\n",
    "\n",
    "total_white=[15323,5979,3434,2588,1194,1924,1621,7590,2811,7084,2333,2354,6017,4525,4115,12676,13612,1008,7296,4180,6604,7191,992]\n",
    "\n",
    "total_black=[1388,744,431,212,109,547,138,987,249,1187,951,644,1217,866,969,1739,2542,43,592,471,1164,1904,240]\n",
    "\n",
    "total_asian=[1078,690,1128,388,196,105,89,484,185,933,207,77,534,181,624,838,812,25,133,165,500,446,52]\n",
    "\n",
    "total_hispanic=[1881,660,384,290,133,324,187,996,397,801,664,442,2129,2271,1059,2576,2984,516,3085,1007,2017,2212,132]\n",
    "\n",
    "total_total=[18263,7587,5126,3263,1529,2680,1891,9313,3362,9420,3629,3203,8220,5854,5947,15806,17655,1121,8338,5012,8621,9918,1416]\n",
    "\n"
   ]
  },
  {
   "cell_type": "code",
   "execution_count": null,
   "metadata": {},
   "outputs": [],
   "source": []
  }
 ],
 "metadata": {
  "kernelspec": {
   "display_name": "Python 3 (ipykernel)",
   "language": "python",
   "name": "python3"
  },
  "language_info": {
   "codemirror_mode": {
    "name": "ipython",
    "version": 3
   },
   "file_extension": ".py",
   "mimetype": "text/x-python",
   "name": "python",
   "nbconvert_exporter": "python",
   "pygments_lexer": "ipython3",
   "version": "3.8.10"
  }
 },
 "nbformat": 4,
 "nbformat_minor": 4
}
