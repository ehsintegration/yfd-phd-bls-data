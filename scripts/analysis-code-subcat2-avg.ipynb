{
 "cells": [
  {
   "cell_type": "markdown",
   "metadata": {},
   "source": [
    "## Load common code"
   ]
  },
  {
   "cell_type": "code",
   "execution_count": null,
   "metadata": {},
   "outputs": [],
   "source": [
    "\"\"\"\n",
    "#For testing, leave commented\n",
    "swivel = 1\n",
    "swivel_order = [2, 1, 22, 7, 16, 6, 3, 12, 10, 9, 4, 5, 15, 8, 14, 0, 20, 13, 19, 11, 18, 21, 17]\n",
    "\n",
    "desired_file_prefix = \"NF_GENDER\" \n",
    "\n",
    "try:\n",
    "   if (len(desired_file_output) == 0):\n",
    "       desired_file_output = \"\"\n",
    "except:\n",
    "    desired_file_output = \"\" \n",
    "    \n",
    "by_year = 0\n",
    "year    = 1    # 0->7\n",
    "\n",
    "normalize_data=True\n",
    "\n",
    "lnconvert=False\n",
    "\n",
    "ocup_sel = 1\n",
    "       \n",
    "desired_file_output = \"./NF_SUB_GENDER/NF_GENDER_\" + str(2011+year) + \"_\"    \n",
    "\"\"\""
   ]
  },
  {
   "cell_type": "code",
   "execution_count": null,
   "metadata": {},
   "outputs": [],
   "source": [
    "#For testing\n",
    "#desired_file_prefix = \"NF_GENDER\" \n",
    "#normalize_data=True\n",
    "#desired_file_output = \"\"\n",
    "\n",
    "%run ./common-code.ipynb"
   ]
  },
  {
   "cell_type": "markdown",
   "metadata": {},
   "source": [
    "## Select Generic Database to work with"
   ]
  },
  {
   "cell_type": "code",
   "execution_count": null,
   "metadata": {},
   "outputs": [],
   "source": [
    "genericDB_files_dict = {}\n",
    "\n",
    "#desired_file_prefix = \"F_GENDER\" "
   ]
  },
  {
   "cell_type": "markdown",
   "metadata": {},
   "source": [
    "## Create above database dictionary"
   ]
  },
  {
   "cell_type": "code",
   "execution_count": null,
   "metadata": {},
   "outputs": [],
   "source": [
    "import os\n",
    "\n",
    "filelist = os.listdir('../DATA')\n",
    "\n",
    "for file in filelist:\n",
    "    if (file.find(desired_file_prefix)==0):\n",
    "        print(file)\n",
    "        fname = \"../DATA/\"+file\n",
    "        afile = open(fname, \"r\")\n",
    "        data = afile.read()\n",
    "        name = file.split(\"_all\")[0]\n",
    "        genericDB_files_dict.setdefault(name, []).append(data)\n",
    "        #print(data)\n",
    "        afile.close()"
   ]
  },
  {
   "cell_type": "code",
   "execution_count": null,
   "metadata": {},
   "outputs": [],
   "source": [
    "#print(genericDB_files_dict)\n",
    "print(genericDB_files_dict.keys())\n",
    "\n",
    "# Create a dictionary of soc_codes\n",
    "#\n",
    "genericDB_dict = {}\n",
    "\n",
    "for db in genericDB_files_dict.keys():\n",
    "    \n",
    "    genericDB = genericDB_files_dict[db]\n",
    "    \n",
    "    #print(genericDB[0])    \n",
    "    line = genericDB[0].replace(\"\\\"\",\"\")\n",
    "    genericDB_array= line.split(\"\\n\")\n",
    "    \n",
    "    #print(line)\n",
    "    #print(\"*********\")\n",
    "    #print(genericDB_array)"
   ]
  },
  {
   "cell_type": "code",
   "execution_count": null,
   "metadata": {},
   "outputs": [],
   "source": []
  },
  {
   "cell_type": "markdown",
   "metadata": {},
   "source": [
    "# Analysis"
   ]
  },
  {
   "cell_type": "code",
   "execution_count": null,
   "metadata": {},
   "outputs": [],
   "source": [
    "# Create a dictionary of soc_codes\n",
    "#\n",
    "genericDB_dict = {}\n",
    "\n",
    "\n",
    "# Create Dictionary of SOC codes\n",
    "#\n",
    "for db in genericDB_files_dict.keys():\n",
    "    \n",
    "    genericDB = genericDB_files_dict[db]\n",
    "    \n",
    "    #print(genericDB[0])    \n",
    "    line = genericDB[0].replace(\"\\\"\",\"\")\n",
    "    genericDB_array= line.split(\"\\n\")\n",
    "    #print(genericDB_array[12:])\n",
    "    \n",
    "    # Line 12 is where the header stops and the data starts\n",
    "    #\n",
    "    for line in genericDB_array[12:]:\n",
    "        line_array = line.split(\",\")\n",
    "        #key  = line_array[0].    [0:7].replace(\"-\",\"\")\n",
    "        key  = line_array[0][6:12]\n",
    "        data = line_array[1:]\n",
    "        #print(line_array)\n",
    "        #print(key,data)\n",
    "\n",
    "        # Replace empty values with zero\n",
    "        if (len(key) > 1):\n",
    "            #print(key,data[0:8])\n",
    "            for index in range(0,8):\n",
    "                if (len(data[index]) == 0):\n",
    "                    data[index] = '0'\n",
    "            #print(key,data[0:8])\n",
    "        \n",
    "        # Convert to Integers\n",
    "        if (len(key) > 1):\n",
    "            #print(key,data[0:8])\n",
    "            for index in range(0,8):\n",
    "                data[index] = int(data[index])\n",
    "            #print(key,data[0:8])   \n",
    "            \n",
    "        # Create dictionary entry\n",
    "        if (len(key) > 1):\n",
    "            genericDB_dict.setdefault(db+\"_\"+key, []).append(data[0:8])\n",
    "    "
   ]
  },
  {
   "cell_type": "code",
   "execution_count": null,
   "metadata": {},
   "outputs": [],
   "source": []
  },
  {
   "cell_type": "markdown",
   "metadata": {},
   "source": [
    "## Scatter plot level 1 RELATIVE average count of DATABASE data for soc groups"
   ]
  },
  {
   "cell_type": "code",
   "execution_count": null,
   "metadata": {
    "scrolled": true
   },
   "outputs": [],
   "source": [
    "%matplotlib inline"
   ]
  },
  {
   "cell_type": "code",
   "execution_count": null,
   "metadata": {
    "tags": []
   },
   "outputs": [],
   "source": [
    "# Create list of new level 1 codes\n",
    "\n",
    "soc_new_lv1 = []\n",
    "\n",
    "for key in soc_new_code:\n",
    "    \n",
    "    # Grab first two chars of code\n",
    "    lvindex = key[0][0:2]\n",
    "    \n",
    "    #Eliminate \"00\" ALL\n",
    "    #if (lvindex.find(\"00\") < 0):\n",
    "    \n",
    "    if lvindex not in soc_new_lv1:\n",
    "        soc_new_lv1.append(lvindex)\n",
    "        #print(lvindex)\n",
    "\n",
    "#print(soc_new_lv1)"
   ]
  },
  {
   "cell_type": "code",
   "execution_count": null,
   "metadata": {
    "tags": []
   },
   "outputs": [],
   "source": []
  },
  {
   "cell_type": "code",
   "execution_count": null,
   "metadata": {
    "tags": []
   },
   "outputs": [],
   "source": [
    "#print(\"HERE\")\n",
    "#print(print(genericDB_files_dict.keys()))"
   ]
  },
  {
   "cell_type": "code",
   "execution_count": 2,
   "metadata": {
    "tags": []
   },
   "outputs": [
    {
     "ename": "NameError",
     "evalue": "name 'genericDB_files_dict' is not defined",
     "output_type": "error",
     "traceback": [
      "\u001b[0;31m---------------------------------------------------------------------------\u001b[0m",
      "\u001b[0;31mNameError\u001b[0m                                 Traceback (most recent call last)",
      "\u001b[0;32m/tmp/ipykernel_3563080/1196983725.py\u001b[0m in \u001b[0;36m<module>\u001b[0;34m\u001b[0m\n\u001b[1;32m      9\u001b[0m \u001b[0;34m\u001b[0m\u001b[0m\n\u001b[1;32m     10\u001b[0m \u001b[0;31m# running generic_totals for 2011 to 2018\u001b[0m\u001b[0;34m\u001b[0m\u001b[0;34m\u001b[0m\u001b[0;34m\u001b[0m\u001b[0m\n\u001b[0;32m---> 11\u001b[0;31m \u001b[0;32mfor\u001b[0m \u001b[0mdb\u001b[0m \u001b[0;32min\u001b[0m \u001b[0mgenericDB_files_dict\u001b[0m\u001b[0;34m.\u001b[0m\u001b[0mkeys\u001b[0m\u001b[0;34m(\u001b[0m\u001b[0;34m)\u001b[0m\u001b[0;34m:\u001b[0m\u001b[0;34m\u001b[0m\u001b[0;34m\u001b[0m\u001b[0m\n\u001b[0m\u001b[1;32m     12\u001b[0m     \u001b[0mx\u001b[0m \u001b[0;34m=\u001b[0m \u001b[0;34m[\u001b[0m\u001b[0;34m]\u001b[0m\u001b[0;34m\u001b[0m\u001b[0;34m\u001b[0m\u001b[0m\n\u001b[1;32m     13\u001b[0m     \u001b[0my\u001b[0m \u001b[0;34m=\u001b[0m \u001b[0;34m[\u001b[0m\u001b[0;34m]\u001b[0m\u001b[0;34m\u001b[0m\u001b[0;34m\u001b[0m\u001b[0m\n",
      "\u001b[0;31mNameError\u001b[0m: name 'genericDB_files_dict' is not defined"
     ]
    }
   ],
   "source": [
    "lastfound = \"\"\n",
    "pcov      = []\n",
    "\n",
    "\n",
    "no_genericDB_data_dict = {}\n",
    "\n",
    "#print(\"HERE\")\n",
    "#print(genericDB_dict.keys())\n",
    "\n",
    "# running generic_totals for 2011 to 2018 \n",
    "for db in genericDB_files_dict.keys():\n",
    "    x = []\n",
    "    y = []\n",
    "    count = 0 \n",
    "    zero_count = 0\n",
    "    \n",
    "    #print(db)\n",
    "        \n",
    "    for ocup in range(ocup_sel,ocup_sel+1):\n",
    "        \n",
    "        index = soc_new_lv1[ocup]\n",
    "        \n",
    "        \n",
    "        print(\"############ OCCUPATION ############\")\n",
    "        code_found = \"NO_CODE_FOUND\"\n",
    "        for code in soc_new_code:\n",
    "            #print(code[0][0:2])\n",
    "            if (code[0][0:2].find(index) >= 0):\n",
    "                code_found = str(code[0]) + \" \" + str(code[1])\n",
    "                #print(code_found)\n",
    "        #print(\" \")\n",
    "\n",
    "    \n",
    "        if (index.find(\"00\") == 0):\n",
    "            if (desired_file_prefix[0:3] == \"NF_\"):\n",
    "                new_key = db+\"_\"+\"0XXXXX\"\n",
    "            else:\n",
    "                new_key = db+\"_\"+index  # +\"0000\"\n",
    "        else:\n",
    "            if (desired_file_prefix[0:3] == \"NF_\"):\n",
    "                new_key = db+\"_\"+index  # +\"0000\"\n",
    "            else:\n",
    "                new_key = db+\"_\"+index  # +\"XXXX\"\n",
    "            \n",
    "        #print(new_key)\n",
    "    \n",
    "        if (len(index) > 0):\n",
    "            generic_totals = []\n",
    "            \n",
    "            for db_key in genericDB_dict.keys():\n",
    "                #print(db_key,new_key)\n",
    "                if (db_key.find(new_key) == 0) and (db_key[-1].find(\"X\") < 0) and (db_key[-4:].find(\"0000\") < 0):\n",
    "                    #print(db_key[-4:])\n",
    "                    #print(db_key,new_key, db_key.split(new_key)[1][0])\n",
    "                    print(\"found \"+db_key)\n",
    "                    #print(genericDB_dict[db_key][0])\n",
    "                    #generic_totals = generic_totals + np.array(genericDB_dict[db_key][0])\n",
    "                      \n",
    "                    #print(year, genericDB_dict[db_key][0])\n",
    "                    \n",
    "                    gen_value = genericDB_dict[db_key][0][year]\n",
    "                    if (gen_value > 0.0):\n",
    "                        generic_totals.append(gen_value)\n",
    "                        #print(\"*gt:\",generic_totals)  \n",
    "                        \n",
    "                        \n",
    "                    soc3 = str(db_key.split(new_key)[1][0:2])\n",
    "                    if (soc3.find(lastfound) < 0):\n",
    "                        #print(\"lastfound, db_key\",lastfound,db_key)\n",
    "                        pcov_avg = np.array(pcov).std() / np.array(pcov).mean()\n",
    "                        print(\"SOC3 change detected: pcov_avg:\"+str(pcov_avg))\n",
    "                        pcov = []\n",
    "                        pcov.append(generic_totals)  \n",
    "                        lastfound = str(db_key.split(new_key)[1][0:2])\n",
    "                    else:\n",
    "                        pcov.append(generic_totals)  \n",
    "                        lastfound = str(db_key.split(new_key)[1][0:2])\n",
    "                        \n",
    "            pcov_avg = np.array(pcov).std() / np.array(pcov).mean()\n",
    "            print(\"SOC3 change detected: pcov_avg:\"+str(pcov_avg))\n",
    "            pcov = []\n",
    "                    \n",
    "            print(\"generic_totals:\"+str(generic_totals)) \n",
    "                        \n",
    "            print(\"#################DB:\",db)\n",
    "             \n",
    "            tmp_lst = generic_totals\n",
    "               \n",
    "            if (db.find(\"_GENDER\")>=0 and db.find(\"_F\")>=0):\n",
    "                ocup_total = total_female[ocup-1]*1000\n",
    "            \n",
    "            elif (db.find(\"_GENDER\")>=0 and db.find(\"_M\")>=0):\n",
    "                ocup_total = total_male[ocup-1]*1000\n",
    "            \n",
    "            elif (db.find(\"_R\")>=0 and db.find(\"_White\")>=0):\n",
    "                ocup_total = total_white[ocup-1]*1000\n",
    "            \n",
    "            elif (db.find(\"_R\")>=0 and db.find(\"_Black\")>=0):\n",
    "                ocup_total = total_black[ocup-1]*1000\n",
    "            \n",
    "            elif (db.find(\"_R\")>=0 and db.find(\"_Asian\")>=0):\n",
    "                ocup_total = total_asian[ocup-1]*1000\n",
    "            \n",
    "            elif (db.find(\"_R\")>=0 and db.find(\"_Hispanic\")>=0):\n",
    "                ocup_total = total_asian[ocup-1]*1000\n",
    "            \n",
    "            else:\n",
    "                print(\"########## NEED TO EVAL ##################\")\n",
    "                print(\"########## NEED TO EVAL ##################\")\n",
    "                ocup_total = np.sum(tmp_lst[1:])  # total_total*1000\n",
    "                if (ocup_total==0):\n",
    "                    ocup_total = 1\n",
    "                    \n",
    "            print(\"ocup_total, tmp_lst\", ocup_total, tmp_lst)    \n",
    "            \n",
    "            #ocup_total = 1\n",
    "            \n",
    "            tmp_lst = np.array(tmp_lst) / ocup_total # total_total*1000\n",
    "            #tmp_lst = tmp_lst / ocup_total\n",
    "            \n",
    "            print(\"tmp_lst/ocup_total\", tmp_lst)    \n",
    "            \n",
    "            #cov.append(tmp_lst.std() / tmp_lst.mean()) \n",
    "            cov = cov + (tmp_lst.tolist())\n",
    "            print(\"cov_array:\",cov)\n",
    "            \n",
    "            #tmp_lst = np.array(generic_totals).sum()\n",
    "            tmp_lst = tmp_lst.mean()\n",
    "            #tmp_lst = tmp_lst.var()\n",
    "            \n",
    "            print(\"tmp_lst.mean()\", tmp_lst)     \n",
    "                                              \n",
    "            #print(generic_totals)   \n",
    "            #relative_totals = fatal_totals / generic_totals\n",
    "            #relative_totals = generic_totals\n",
    "            value = tmp_lst\n",
    "            \n",
    "            count=count+1\n",
    "            \n",
    "            print(\"*\",value)\n",
    "\n",
    "            x.append(count-1)\n",
    "            \n",
    "            #print(\"***\", y, value)\n",
    "            #y = y + list(value)      # Merge lists\n",
    "            y.append(value)\n",
    "            \n",
    "            if (np.mean(value) <= no_data_threshold):\n",
    "                zero_count = zero_count + 1\n",
    "\n",
    "               \n",
    "    print(\"**\",y)\n",
    "    \n",
    "    # Eliminate the first value\n",
    "    #y = y[1:]\n",
    "    #x = x[1:]            \n",
    "                \n",
    "    #Append data set\n",
    "    label = str(year+2011)+\"_\"+str(code_found)+\"_\"+str(db)\n",
    "    global_y_soc1.append([label,y])\n",
    "    \n",
    "    print(\"**********\",global_y_soc1)\n",
    "            \n",
    "    # Check for empty sets\n",
    "    if (zero_count > 10):\n",
    "        if (db not in global_soc1_empty):\n",
    "            global_soc1_empty.append(db) \n",
    "         \n",
    "    #print(\"****\",db,y)\n",
    "    #print(\" \")\n",
    "\n",
    "    "
   ]
  },
  {
   "cell_type": "markdown",
   "metadata": {},
   "source": [
    "## Functions"
   ]
  },
  {
   "cell_type": "code",
   "execution_count": null,
   "metadata": {},
   "outputs": [],
   "source": []
  },
  {
   "cell_type": "code",
   "execution_count": null,
   "metadata": {},
   "outputs": [],
   "source": [
    "#def color_corr_green(val):\n",
    "#    \"\"\"\n",
    "#    Takes a scalar and returns a string with\n",
    "#    the css property `'color: red'` for negative\n",
    "#    strings, black otherwise.\n",
    "#    \"\"\"\n",
    "#    color = 'green' if val > 0.8 else 'black'\n",
    "#   return 'color: %s' % color"
   ]
  }
 ],
 "metadata": {
  "kernelspec": {
   "display_name": "Python 3 (ipykernel)",
   "language": "python",
   "name": "python3"
  },
  "language_info": {
   "codemirror_mode": {
    "name": "ipython",
    "version": 3
   },
   "file_extension": ".py",
   "mimetype": "text/x-python",
   "name": "python",
   "nbconvert_exporter": "python",
   "pygments_lexer": "ipython3",
   "version": "3.8.10"
  }
 },
 "nbformat": 4,
 "nbformat_minor": 4
}
