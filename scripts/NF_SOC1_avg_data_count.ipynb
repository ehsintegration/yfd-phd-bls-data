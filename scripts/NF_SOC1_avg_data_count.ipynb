{
 "cells": [
  {
   "cell_type": "code",
   "execution_count": null,
   "metadata": {},
   "outputs": [],
   "source": [
    "import os\n",
    "\n",
    "try:\n",
    "    os.mkdir(\"../PLOTS/NF_AVG\")\n",
    "except:\n",
    "    print(\"NF_AVG dir exists.\")\n",
    "\n",
    "desired_file_output = \"./NF_AVG/\""
   ]
  },
  {
   "cell_type": "markdown",
   "metadata": {},
   "source": [
    "## Clear Golbal Array"
   ]
  },
  {
   "cell_type": "code",
   "execution_count": null,
   "metadata": {},
   "outputs": [],
   "source": [
    "try:\n",
    "    del global_y_soc1\n",
    "    del global_soc1_empty\n",
    "    print(\"deleted\")\n",
    "except:\n",
    "    print(\"not found\")\n",
    "    "
   ]
  },
  {
   "cell_type": "markdown",
   "metadata": {},
   "source": [
    "## Plot the ALL averaged soc level1 response"
   ]
  },
  {
   "cell_type": "code",
   "execution_count": null,
   "metadata": {},
   "outputs": [],
   "source": []
  },
  {
   "cell_type": "code",
   "execution_count": null,
   "metadata": {},
   "outputs": [],
   "source": [
    "%run ./NF_GENDER_data_count.ipynb\n",
    "%run ./NF_AGE_data_count.ipynb\n",
    "%run ./NF_LOS_data_count.ipynb\n",
    "%run ./NF_R_data_count.ipynb\n",
    "%run ./NF_EX_data_count.ipynb"
   ]
  },
  {
   "cell_type": "code",
   "execution_count": null,
   "metadata": {},
   "outputs": [],
   "source": []
  },
  {
   "cell_type": "code",
   "execution_count": null,
   "metadata": {},
   "outputs": [],
   "source": []
  },
  {
   "cell_type": "code",
   "execution_count": null,
   "metadata": {},
   "outputs": [],
   "source": []
  },
  {
   "cell_type": "code",
   "execution_count": null,
   "metadata": {
    "scrolled": true
   },
   "outputs": [],
   "source": [
    "# Creating pandas dataframe from numpy array\n",
    "#pd_data_df = pd.DataFrame({ global_y_soc1[0][0] : global_y_soc1[0][1] })\n",
    "pd_df = pd.DataFrame()\n",
    "\n",
    "for index in range(0,len(global_y_soc1)):\n",
    "    pd_df[global_y_soc1[index][0]] = global_y_soc1[index][1]\n",
    "    #print(global_y_soc1[index][0])\n",
    "    #print(type(global_y_soc1[index][0]))\n",
    "\n",
    "    \n",
    "# Create the list of elemnts\n",
    "#\n",
    "#print(pd_df)\n",
    "print(list(pd_df.columns))\n",
    "avg_list = list(pd_df.columns)\n",
    "\n",
    "title = \"F_all boxplots\"\n",
    "plt.figure(title,figsize=(10, 10))\n",
    "plt.title(title)\n",
    "#pd_df.boxplot(['F_GENDER_F', 'F_GENDER_M', 'F_AGE_14to15', 'F_AGE_16to19', 'F_AGE_20to24', 'F_AGE_25to34', 'F_AGE_35to44', 'F_AGE_45to54', 'F_AGE_55to64', 'F_AGE_65plus', 'F_AGE_NR', 'NF_E1X_In_UnIn_Animal', 'NF_E2X_Transportion', 'NF_E3X_Fire_Explosion', 'NF_E4X_Falls_Slip_Trip', 'NF_E5X_Exposure', 'NF_E6X_Contact', 'NF_E7X_Overex', 'NF_EXX_All_other'])\n",
    "pd_df.boxplot(avg_list)\n",
    "plt.xticks(rotation = 90)\n",
    "plt.ylim=((0,0.4))\n",
    "plt.tight_layout()\n",
    "\n",
    "save_title = \"../PLOTS/\" + desired_file_output + title + \".png\"\n",
    "save_title = save_title.replace(\",\",\"\")\n",
    "save_title = save_title.replace(\" \",\"_\")\n",
    "plt.savefig(save_title, dpi=100, bbox_inches='tight')\n",
    "\n",
    "# NF_RIX_Hispanic + NF_GENDER_M + NF_GENDER_NR + NF_AGE_14to15 + NF_AGE_16to19 + NF_AGE_20to24 + NF_AGE_25to34 + NF_AGE_35to44 + NF_AGE_45to54 + NF_AGE_55to64 + NF_AGE_65plus + NF_AGE_NR + NF_LOS_1to5yr + NF_LOS_3to11mos + NF_LOS_5plus + NF_LOS_NR + NF_LOS_ltg3mos + NF_RAX_AmericanIndian_AlaskaNative + NF_RBX_Asian + NF_RCX_Black_AfricanAmerican + NF_RDX_Hispanic + NF_REX_Hawaiian + NF_RFX_White + NF_RGX_NR + NF_RHX_Multi + NF_RIX_Hispanic\n",
    "\n",
    "#NF_EXX_All_other + NF_GENDER_M + NF_GENDER_NR + NF_AGE_14to15 + NF_AGE_16to19 + NF_AGE_20to24 + NF_AGE_25to34 + NF_AGE_35to44 + NF_AGE_45to54 + NF_AGE_55to64 + NF_AGE_65plus + NF_AGE_NR + NF_LOS_1to5yr + NF_LOS_3to11mos + NF_LOS_5plus + NF_LOS_NR + NF_LOS_ltg3mos + NF_RAX_AmericanIndian_AlaskaNative + NF_RBX_Asian + NF_RCX_Black_AfricanAmerican + NF_RDX_Hispanic + NF_REX_Hawaiian + NF_RFX_White + NF_RGX_NR + NF_RHX_Multi + NF_RIX_Hispanic + NF_E1X_In_UnIn_Animal + NF_E2X_Transportion + NF_E3X_Fire_Explosion + NF_E4X_Falls_Slip_Trip + NF_E5X_Exposure + NF_E6X_Contact + NF_E7X_Overex + NF_EXX_All_other"
   ]
  },
  {
   "cell_type": "code",
   "execution_count": null,
   "metadata": {
    "tags": []
   },
   "outputs": [],
   "source": [
    "#print(str(global_y_soc1[index][0]),end='')\n",
    "#for index in range(1,len(global_y_soc1)):\n",
    "#    print(\" +\", str(global_y_soc1[index][0]),end='')"
   ]
  },
  {
   "cell_type": "code",
   "execution_count": null,
   "metadata": {},
   "outputs": [],
   "source": [
    "from statsmodels.formula.api import ols\n",
    "from statsmodels.graphics.api import interaction_plot, abline_plot\n",
    "from statsmodels.stats.anova import anova_lm\n",
    "\n",
    "import statsmodels.api as sm\n",
    "#import statsmodels.formula.api as smf"
   ]
  },
  {
   "cell_type": "code",
   "execution_count": null,
   "metadata": {},
   "outputs": [],
   "source": [
    "import dataframe_image as dfi"
   ]
  },
  {
   "cell_type": "code",
   "execution_count": null,
   "metadata": {
    "tags": []
   },
   "outputs": [],
   "source": [
    "title = \"F_NF_all_pearson_corr\"\n",
    "\n",
    "#df_corr = pd_df.corr(method='pearson').style.applymap(color_corr_green)\n",
    "df_corr = pd_df.corr(method='pearson').style.applymap(color_corr_green)\n",
    "\n",
    "save_file = \"../PLOTS/\" + desired_file_output + title + \".xlsx\"\n",
    "df_corr.to_excel(save_file)"
   ]
  },
  {
   "cell_type": "code",
   "execution_count": null,
   "metadata": {},
   "outputs": [],
   "source": [
    "import dataframe_image as dfi"
   ]
  },
  {
   "cell_type": "code",
   "execution_count": null,
   "metadata": {},
   "outputs": [],
   "source": [
    "\n",
    "df = pd_df.corr(method='pearson')\n",
    "\n",
    "ranges = []\n",
    "#Build up range\n",
    "last_loc = 0\n",
    "for i in range(0,len(avg_list)-1):\n",
    "    loc = avg_list[i].find(\"F_\")  + 2\n",
    "    #print(avg_list[i][loc], avg_list[i+1][loc] )\n",
    "    if (avg_list[i][loc] != avg_list[i+1][loc] ):\n",
    "        #print(last_loc,i+1)\n",
    "        ranges.append([last_loc,i+1])\n",
    "        last_loc = i+1\n",
    "\n",
    "print(ranges)   \n",
    "#ranges = [ [0,2],[2,11],[11,20],[20,29],[29,34], [0,34]]\n",
    "\n",
    "for r in ranges:\n",
    "    df_style = df[df.columns[r[0]:r[1]]].style.applymap(color_corr_green)\n",
    "    dfi_fname = \"../PLOTS/\" + desired_file_output + \"F_all_pearson_corr_\"+str(r[0])+\"_\"+str(r[1])+\".png\"\n",
    "    dfi.export(df_style, dfi_fname, max_cols=-1)\n",
    "    \n",
    "    save_file = \"../PLOTS/\" + desired_file_output + \"F_NF_all_pearson_corr_\" + str(r[0]) + \"_\" + str(r[1]) + \".xlsx\"\n",
    "    df_style.to_excel(save_file)"
   ]
  },
  {
   "cell_type": "markdown",
   "metadata": {},
   "source": [
    "## Average data"
   ]
  },
  {
   "cell_type": "code",
   "execution_count": null,
   "metadata": {},
   "outputs": [],
   "source": [
    "#'NF_GENDER_F', 'NF_GENDER_M', 'NF_GENDER_NR' \n",
    "#'NF_AGE_14to15', 'NF_AGE_16to19',  'NF_AGE_20to24', 'NF_AGE_25to34', 'NF_AGE_35to44', 'NF_AGE_45to54', 'NF_AGE_55to64', 'NF_AGE_65plus', 'NF_AGE_NR'\n",
    "#'NF_LOS_1to5yr', 'NF_LOS_3to11mos', 'NF_LOS_5plus','NF_LOS_NR', 'NF_LOS_ltg3mos'\n",
    "#\n",
    "#NF_RAX_AmericanIndian_AlaskaNative + NF_RBX_Asian + NF_RCX_Black_AfricanAmerican + NF_RDX_Hispanic + NF_REX_Hawaiian + NF_RFX_White + NF_RGX_NR + NF_RHX_Multi + NF_RIX_Hispanic \n",
    "#NF_E1X_In_UnIn_Animal + NF_E2X_Transportion + NF_E3X_Fire_Explosion + NF_E4X_Falls_Slip_Trip + NF_E5X_Exposure + NF_E6X_Contact + NF_E7X_Overex + NF_EXX_All_other\n",
    "\n",
    "#avg_list = ['NF_GENDER_M','NF_GENDER_F']\n",
    "#avg_list = ['NF_GENDER_F', 'NF_GENDER_M', 'NF_GENDER_NR', 'NF_AGE_14to15', 'NF_AGE_16to19', 'NF_AGE_20to24', 'NF_AGE_25to34', 'NF_AGE_35to44', 'NF_AGE_45to54', 'NF_AGE_55to64', 'NF_AGE_65plus', 'NF_AGE_NR', 'NF_LOS_1to5yr', 'NF_LOS_3to11mos', 'NF_LOS_5plus','NF_LOS_NR', 'NF_LOS_ltg3mos']\n",
    "\n",
    "# Create plot data\n",
    "x = np.zeros(23)\n",
    "y = np.zeros(23)\n",
    "count = 0.0\n",
    "\n",
    "for to_avg in avg_list:\n",
    "    for index in range(0,len(global_y_soc1)):\n",
    "        if (str(global_y_soc1[index][0]).find(to_avg)>=0):\n",
    "            print(global_y_soc1[index][0])\n",
    "            y = (y + global_y_soc1[index][1]) / 2\n",
    "    \n",
    "for index in range(0,23):\n",
    "    x[index] = count\n",
    "    count=count+1.0\n",
    "        \n",
    "data = np.array([x,y])\n",
    "\n",
    "print(data)"
   ]
  },
  {
   "cell_type": "code",
   "execution_count": null,
   "metadata": {},
   "outputs": [],
   "source": []
  },
  {
   "cell_type": "markdown",
   "metadata": {},
   "source": [
    "## Create PANDAS dataset\n"
   ]
  },
  {
   "cell_type": "markdown",
   "metadata": {},
   "source": [
    "## Fix Outliers"
   ]
  },
  {
   "cell_type": "code",
   "execution_count": null,
   "metadata": {},
   "outputs": [],
   "source": [
    "# Fix outliers\n",
    "\n",
    "for index in range(0,len(y)):\n",
    "    if ((index==6) or (index==22)):\n",
    "        # Mask outliers\n",
    "        y[index] = y[index-1]\n",
    "    #else:\n",
    "    #    y[index] = y[index]\n",
    "        \n",
    "data = np.array([x,y])\n",
    "print(data)"
   ]
  },
  {
   "cell_type": "code",
   "execution_count": null,
   "metadata": {},
   "outputs": [],
   "source": [
    "# Creating pandas dataframe from numpy array\n",
    "pd_data = pd.DataFrame({'Column1': data[0, :], 'Column2': data[1, :]})\n",
    "print(pd_data)"
   ]
  },
  {
   "cell_type": "markdown",
   "metadata": {},
   "source": [
    "## Perform regression"
   ]
  },
  {
   "cell_type": "code",
   "execution_count": null,
   "metadata": {},
   "outputs": [],
   "source": [
    "X = pd_data.iloc[:, 0].values.reshape(-1, 1)  # values converts it into a numpy array\n",
    "Y = pd_data.iloc[:, 1].values.reshape(-1, 1)  # -1 means that calculate the dimension of rows, but have 1 column\n",
    "linear_regressor = LinearRegression()  # create object for the class\n",
    "results=linear_regressor.fit(X, Y)  # perform linear regression\n",
    "\n",
    "r_sq = linear_regressor.score(X, Y)\n",
    "Y_pred = linear_regressor.predict(X)  # make predictions\n",
    "print('coefficient of determination:', r_sq)\n",
    "#print(Y_pred)"
   ]
  },
  {
   "cell_type": "code",
   "execution_count": null,
   "metadata": {},
   "outputs": [],
   "source": [
    "new_model = LinearRegression().fit(X, Y.reshape((-1, 1)))\n",
    "print('intercept:', new_model.intercept_)\n",
    "print('slope:', new_model.coef_)\n"
   ]
  },
  {
   "cell_type": "markdown",
   "metadata": {},
   "source": [
    "## Plot prediction"
   ]
  },
  {
   "cell_type": "code",
   "execution_count": null,
   "metadata": {
    "tags": []
   },
   "outputs": [],
   "source": [
    "title = \"F linear regression, cumulative avg NF_GENDER_AGE_LOS\"\n",
    "plt.figure(title, figsize=(10, 10))\n",
    "plt.title(title)\n",
    "plt.xlabel('categories(RISK)')\n",
    "plt.ylabel('relative log index(RISK PERCEPTION)')\n",
    "#plt.ylim(0,12)\n",
    "\n",
    "for index in range(0,23):  \n",
    "    plabel = str(index) + \" \" + str(soc_new_code[index+1][1])\n",
    "    plt.plot(x[index],y[index],'.',label=plabel, color=\"black\")\n",
    "    #plt.text(x[index],y[index],str(index))\n",
    "    #plt.scatter(X[index], Y[index])\n",
    "    plt.plot(X[index], Y_pred[index],'o', color=\"red\")\n",
    "    plt.text(X[index], Y[index],str(index))\n",
    "    \n",
    "plt.legend(loc=\"upper left\", ncol= 1, fontsize=\"small\")\n",
    "plt.show()\n",
    "\n",
    "save_title = \"../PLOTS/\" + desired_file_output + title + \".png\"\n",
    "save_title = save_title.replace(\",\",\"\")\n",
    "save_title = save_title.replace(\" \",\"_\")\n",
    "plt.savefig(save_title, dpi=100, bbox_inches='tight')\n"
   ]
  },
  {
   "cell_type": "code",
   "execution_count": null,
   "metadata": {},
   "outputs": [],
   "source": [
    "#print(Y_pred)\n",
    "yp = Y_pred.tolist()\n",
    "print(yp[0],yp[-1])\n",
    "yp1 = float(yp[0][0])\n",
    "yp2 = float(yp[-1][0])\n",
    "print(math.pow(10,-1*yp1), math.pow(10,-1*yp2) )"
   ]
  },
  {
   "cell_type": "code",
   "execution_count": null,
   "metadata": {},
   "outputs": [],
   "source": [
    "print(global_soc1_empty)"
   ]
  },
  {
   "cell_type": "code",
   "execution_count": null,
   "metadata": {},
   "outputs": [],
   "source": [
    "print(no_data_threshold)"
   ]
  },
  {
   "cell_type": "code",
   "execution_count": null,
   "metadata": {},
   "outputs": [],
   "source": []
  }
 ],
 "metadata": {
  "kernelspec": {
   "display_name": "Python 3",
   "language": "python",
   "name": "python3"
  },
  "language_info": {
   "codemirror_mode": {
    "name": "ipython",
    "version": 3
   },
   "file_extension": ".py",
   "mimetype": "text/x-python",
   "name": "python",
   "nbconvert_exporter": "python",
   "pygments_lexer": "ipython3",
   "version": "3.7.6"
  }
 },
 "nbformat": 4,
 "nbformat_minor": 4
}
