{
 "cells": [
  {
   "cell_type": "code",
   "execution_count": null,
   "metadata": {},
   "outputs": [],
   "source": [
    "desired_file_prefix = \"F_GENDER\" \n",
    "\n",
    "normalize_data=True"
   ]
  },
  {
   "cell_type": "code",
   "execution_count": null,
   "metadata": {},
   "outputs": [],
   "source": [
    "#For testing, leave commented\n",
    "#swivel = 1\n",
    "#swivel_order = [2, 1, 22, 7, 16, 6, 3, 12, 10, 9, 4, 5, 15, 8, 14, 0, 20, 13, 19, 11, 18, 21, 17]\n",
    "#swivel_order = [2, 1, 7, 16, 6, 3, 12, 10, 9, 4, 5, 15, 8, 14, 0, 20, 22, 13, 19, 11, 18, 21, 17]\n",
    "#\n",
    "\n",
    "try:\n",
    "    if (len(desired_file_output) == 0):\n",
    "        desired_file_output = \"\"\n",
    "except:\n",
    "    desired_file_output = \"\" \n",
    "\n",
    "%run ./analysis-code.ipynb"
   ]
  },
  {
   "cell_type": "code",
   "execution_count": null,
   "metadata": {},
   "outputs": [],
   "source": []
  }
 ],
 "metadata": {
  "kernelspec": {
   "display_name": "Python 3 (ipykernel)",
   "language": "python",
   "name": "python3"
  },
  "language_info": {
   "codemirror_mode": {
    "name": "ipython",
    "version": 3
   },
   "file_extension": ".py",
   "mimetype": "text/x-python",
   "name": "python",
   "nbconvert_exporter": "python",
   "pygments_lexer": "ipython3",
   "version": "3.8.10"
  }
 },
 "nbformat": 4,
 "nbformat_minor": 4
}
