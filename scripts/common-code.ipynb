{
 "cells": [
  {
   "cell_type": "code",
   "execution_count": 2,
   "metadata": {},
   "outputs": [],
   "source": [
    "# Used to get zoom-able & resize-able notebook. This is the best for quick tests where you need to work interactively.\n",
    "%matplotlib notebook    \n",
    "\n",
    "# this only draws the images, not interactive / zoom-able but it works well. I recommend to change figure size to be bigger than the default in most cases\n",
    "#%matplotlib inline"
   ]
  },
  {
   "cell_type": "code",
   "execution_count": 3,
   "metadata": {},
   "outputs": [],
   "source": [
    "# Used for high quality plot\n",
    "%config InlineBackend.figure_format = 'svg'"
   ]
  },
  {
   "cell_type": "code",
   "execution_count": 4,
   "metadata": {},
   "outputs": [],
   "source": [
    "import numpy as np\n",
    "import pandas as pd\n",
    "import matplotlib.pyplot as plt\n",
    "import time\n",
    "import matplotlib.dates as mdates\n",
    "import datetime\n",
    "import math\n",
    "from scipy import optimize"
   ]
  },
  {
   "cell_type": "markdown",
   "metadata": {},
   "source": [
    "## The following is how you import an object:\n",
    "\n",
    "This object lets you access files from the GITHUB repository of files\n",
    "its where all of the COVID-19 data is kept.\n",
    "\n",
    "What is GITHUB : https://en.wikipedia.org/wiki/GitHub\n",
    "\n",
    "Documentation : https://pygithub.readthedocs.io/en/latest/"
   ]
  },
  {
   "cell_type": "code",
   "execution_count": 5,
   "metadata": {},
   "outputs": [],
   "source": [
    "from github import Github"
   ]
  },
  {
   "cell_type": "markdown",
   "metadata": {},
   "source": [
    "## GITHUB ACCESS\n",
    "When you import the github library, an object called g needs to be\n",
    "created. This object will represent the github object that we will use\n",
    "to pull data from the github repository. You will be able to pull data\n",
    "from your own personal repository, or any repository that exits in\n",
    "github.\n",
    "\n",
    "This object will be used to access any file or directory within the\n",
    "github \"filesystem\".\n",
    "\n",
    "For this access to occur you need to insert your personal github\n",
    "username and password. If you dont have one, you would need to creat a\n",
    "github account. Please note that the fields below are exactly what\n",
    "you would enter when prompted when logging into the github site."
   ]
  },
  {
   "cell_type": "code",
   "execution_count": 6,
   "metadata": {},
   "outputs": [],
   "source": [
    "# Replace with your login\n",
    "#\n",
    "#g = Github(\"username\", \"password\")\n",
    "g = Github(\"ehsintegration\", \"$Ngc111$\")"
   ]
  },
  {
   "cell_type": "markdown",
   "metadata": {},
   "source": [
    "In the following command we create another object called\n",
    "repo (short for repository of files), and assign it to a specific\n",
    "repository. Specifically the PHD repository located at:\n",
    "https://github.com/ehsintegration/yfd-phd-bls-data"
   ]
  },
  {
   "cell_type": "code",
   "execution_count": 7,
   "metadata": {},
   "outputs": [],
   "source": [
    "repo = g.get_repo(\"ehsintegration/yfd-phd-bls-data\")"
   ]
  },
  {
   "cell_type": "code",
   "execution_count": 8,
   "metadata": {},
   "outputs": [
    {
     "name": "stdout",
     "output_type": "stream",
     "text": [
      "[ContentFile(path=\"D2-documentation\"), ContentFile(path=\"DATA\"), ContentFile(path=\"README.md\"), ContentFile(path=\"scripts\")]\n",
      "ContentFile(path=\"D2-documentation\")\n",
      "ContentFile(path=\"DATA\")\n",
      "ContentFile(path=\"README.md\")\n",
      "ContentFile(path=\"scripts\")\n"
     ]
    }
   ],
   "source": [
    "contents = repo.get_contents(\"\")\n",
    "print(contents)\n",
    "for index in contents:\n",
    "    print(index)"
   ]
  },
  {
   "cell_type": "markdown",
   "metadata": {},
   "source": [
    "## Get List of Files\n",
    "Get the list of files from the directory that we are interested in,\n",
    "the DATA folder\n"
   ]
  },
  {
   "cell_type": "code",
   "execution_count": 9,
   "metadata": {},
   "outputs": [
    {
     "name": "stdout",
     "output_type": "stream",
     "text": [
      "https://raw.githubusercontent.com/ehsintegration/yfd-phd-bls-data/master/DATA/FATAL_all.csv\n",
      "https://raw.githubusercontent.com/ehsintegration/yfd-phd-bls-data/master/DATA/NF_AGE_14to15_all.csv\n",
      "https://raw.githubusercontent.com/ehsintegration/yfd-phd-bls-data/master/DATA/NF_AGE_16to19_all.csv\n",
      "https://raw.githubusercontent.com/ehsintegration/yfd-phd-bls-data/master/DATA/NF_AGE_20to24_all.csv\n",
      "https://raw.githubusercontent.com/ehsintegration/yfd-phd-bls-data/master/DATA/NF_AGE_25to34_all.csv\n",
      "https://raw.githubusercontent.com/ehsintegration/yfd-phd-bls-data/master/DATA/NF_AGE_35to44_all.csv\n",
      "https://raw.githubusercontent.com/ehsintegration/yfd-phd-bls-data/master/DATA/NF_AGE_45to54_all.csv\n",
      "https://raw.githubusercontent.com/ehsintegration/yfd-phd-bls-data/master/DATA/NF_AGE_55to64_all.csv\n",
      "https://raw.githubusercontent.com/ehsintegration/yfd-phd-bls-data/master/DATA/NF_AGE_65plus_all.csv\n",
      "https://raw.githubusercontent.com/ehsintegration/yfd-phd-bls-data/master/DATA/NF_AGE_NR_all.csv\n",
      "https://raw.githubusercontent.com/ehsintegration/yfd-phd-bls-data/master/DATA/NF_E1X_In_UnIn_Animal_all.csv\n",
      "https://raw.githubusercontent.com/ehsintegration/yfd-phd-bls-data/master/DATA/NF_E2X_Transportion_all.csv\n",
      "https://raw.githubusercontent.com/ehsintegration/yfd-phd-bls-data/master/DATA/NF_E3X_Fire_Explosion_all.csv\n",
      "https://raw.githubusercontent.com/ehsintegration/yfd-phd-bls-data/master/DATA/NF_E4X_Falls_Slip_Trip_all.csv\n",
      "https://raw.githubusercontent.com/ehsintegration/yfd-phd-bls-data/master/DATA/NF_E5X_Exposure_all.csv\n",
      "https://raw.githubusercontent.com/ehsintegration/yfd-phd-bls-data/master/DATA/NF_E6X_Contact_all.csv\n",
      "https://raw.githubusercontent.com/ehsintegration/yfd-phd-bls-data/master/DATA/NF_E7X_Overex_all.csv\n",
      "https://raw.githubusercontent.com/ehsintegration/yfd-phd-bls-data/master/DATA/NF_EXX_All_other_all.csv\n",
      "https://raw.githubusercontent.com/ehsintegration/yfd-phd-bls-data/master/DATA/NF_GENDER_F_all.csv\n",
      "https://raw.githubusercontent.com/ehsintegration/yfd-phd-bls-data/master/DATA/NF_GENDER_M_all.csv\n",
      "https://raw.githubusercontent.com/ehsintegration/yfd-phd-bls-data/master/DATA/NF_GENDER_NR_all.csv\n",
      "https://raw.githubusercontent.com/ehsintegration/yfd-phd-bls-data/master/DATA/NF_LOS_1to5yr_all.csv\n",
      "https://raw.githubusercontent.com/ehsintegration/yfd-phd-bls-data/master/DATA/NF_LOS_3to11mos_all.csv\n",
      "https://raw.githubusercontent.com/ehsintegration/yfd-phd-bls-data/master/DATA/NF_LOS_5plus_all.csv\n",
      "https://raw.githubusercontent.com/ehsintegration/yfd-phd-bls-data/master/DATA/NF_LOS_NR_all.csv\n",
      "https://raw.githubusercontent.com/ehsintegration/yfd-phd-bls-data/master/DATA/NF_LOS_ltg3mos_all.csv\n",
      "https://raw.githubusercontent.com/ehsintegration/yfd-phd-bls-data/master/DATA/NF_RAX_AmericanIndian_AlaskaNative_all.csv\n",
      "https://raw.githubusercontent.com/ehsintegration/yfd-phd-bls-data/master/DATA/NF_RBX_Asian_all.csv\n",
      "https://raw.githubusercontent.com/ehsintegration/yfd-phd-bls-data/master/DATA/NF_RCX_Black_AfricanAmerican_all.csv\n",
      "https://raw.githubusercontent.com/ehsintegration/yfd-phd-bls-data/master/DATA/NF_RDX_Hispanic_all.csv\n",
      "https://raw.githubusercontent.com/ehsintegration/yfd-phd-bls-data/master/DATA/NF_REX_Hawaiian_all.csv\n",
      "https://raw.githubusercontent.com/ehsintegration/yfd-phd-bls-data/master/DATA/NF_RFX_White_all.csv\n",
      "https://raw.githubusercontent.com/ehsintegration/yfd-phd-bls-data/master/DATA/NF_RGX_NR_all.csv\n",
      "https://raw.githubusercontent.com/ehsintegration/yfd-phd-bls-data/master/DATA/NF_RHX_Multi_all.csv\n",
      "https://raw.githubusercontent.com/ehsintegration/yfd-phd-bls-data/master/DATA/NF_RIX_Hispanic_all.csv\n",
      "https://raw.githubusercontent.com/ehsintegration/yfd-phd-bls-data/master/DATA/SOC_all.csv\n",
      "37\n"
     ]
    }
   ],
   "source": [
    "contents = repo.get_contents(\"DATA\")\n",
    "count = 1\n",
    "for index in contents:\n",
    "    url = index.download_url\n",
    "    print(url)\n",
    "    count = count + 1\n",
    "print(count)"
   ]
  },
  {
   "cell_type": "markdown",
   "metadata": {},
   "source": [
    "## Use HTTP Access to grab the files\n",
    "Here we are pulling in another object called BS4, which stands for\n",
    "Beautiful Soup 4. We will use the Beautiful Soup Object to fetch web data.\n",
    "Beautiful soup is normally used to parse HTML, but we are just using\n",
    "it to download the file and convert it to a string. "
   ]
  },
  {
   "cell_type": "code",
   "execution_count": 10,
   "metadata": {},
   "outputs": [],
   "source": [
    "import bs4 as bs\n",
    "import urllib.request"
   ]
  },
  {
   "cell_type": "markdown",
   "metadata": {},
   "source": [
    "## Create SOC dictionary"
   ]
  },
  {
   "cell_type": "code",
   "execution_count": 11,
   "metadata": {},
   "outputs": [
    {
     "name": "stdout",
     "output_type": "stream",
     "text": [
      "https://raw.githubusercontent.com/ehsintegration/yfd-phd-bls-data/master/DATA/SOC_all.csv\n"
     ]
    }
   ],
   "source": [
    "# pull in the list of SOC industry codes\n",
    "soc = []\n",
    "\n",
    "desired_file = \"SOC_all.csv\"\n",
    "\n",
    "# Iterate through all of the URLs\n",
    "for index in contents:\n",
    "    url = index.download_url\n",
    "    \n",
    "    # Is content_file a file with the .csv extension\n",
    "    if (desired_file in url):\n",
    "        print(url)\n",
    "        \n",
    "        # Grab the source contents of the file\n",
    "        source = urllib.request.urlopen(url).read()\n",
    "        \n",
    "        #print(source)\n",
    "        decoded_data = source.decode(\"utf-8\")\n",
    "        soc.append(decoded_data)   \n",
    "\n",
    "#print(soc)"
   ]
  },
  {
   "cell_type": "code",
   "execution_count": 12,
   "metadata": {},
   "outputs": [],
   "source": [
    "# Create a dictionary of soc_codes\n",
    "#\n",
    "soc_dict = {}\n",
    "\n",
    "line = soc[0].replace(\"\\\"\",\"\")\n",
    "soc_array= line.split(\"\\n\")\n",
    "\n",
    "# Create Dictionary of SOC codes\n",
    "#\n",
    "for line in soc_array:\n",
    "    key  = line[0:7].replace(\"-\",\"\")\n",
    "    data = line[9:]\n",
    "    soc_dict.setdefault(key, []).append(data)\n",
    "    \n",
    "#index = 0\n",
    "#for key in soc_dict:\n",
    "#    print(index, key, soc_dict[key])\n",
    "#    index = index + 1"
   ]
  },
  {
   "cell_type": "code",
   "execution_count": 13,
   "metadata": {},
   "outputs": [],
   "source": [
    "#print(soc_array)"
   ]
  },
  {
   "cell_type": "code",
   "execution_count": null,
   "metadata": {},
   "outputs": [],
   "source": []
  }
 ],
 "metadata": {
  "kernelspec": {
   "display_name": "Python 3",
   "language": "python",
   "name": "python3"
  },
  "language_info": {
   "codemirror_mode": {
    "name": "ipython",
    "version": 3
   },
   "file_extension": ".py",
   "mimetype": "text/x-python",
   "name": "python",
   "nbconvert_exporter": "python",
   "pygments_lexer": "ipython3",
   "version": "3.7.6"
  }
 },
 "nbformat": 4,
 "nbformat_minor": 4
}
