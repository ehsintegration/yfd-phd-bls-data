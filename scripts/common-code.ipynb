{
 "cells": [
  {
   "cell_type": "code",
   "execution_count": 7,
   "metadata": {},
   "outputs": [],
   "source": [
    "# Used to get zoom-able & resize-able notebook. This is the best for quick tests where you need to work interactively.\n",
    "%matplotlib notebook    \n",
    "\n",
    "# this only draws the images, not interactive / zoom-able but it works well. I recommend to change figure size to be bigger than the default in most cases\n",
    "#%matplotlib inline"
   ]
  },
  {
   "cell_type": "code",
   "execution_count": 13,
   "metadata": {},
   "outputs": [],
   "source": [
    "# Used for high quality plot\n",
    "%config InlineBackend.figure_format = 'svg'"
   ]
  },
  {
   "cell_type": "code",
   "execution_count": 14,
   "metadata": {},
   "outputs": [],
   "source": [
    "import numpy as np\n",
    "import matplotlib.pyplot as plt\n",
    "import time\n",
    "import matplotlib.dates as mdates\n",
    "import datetime\n",
    "import math\n",
    "from scipy import optimize\n",
    "import pandas as pd\n",
    "from sklearn.linear_model import LinearRegression\n",
    "import statsmodels.api as sm"
   ]
  },
  {
   "cell_type": "markdown",
   "metadata": {},
   "source": [
    "## The following is how you import an object:\n",
    "\n",
    "This object lets you access files from the GITHUB repository of files\n",
    "its where all of the COVID-19 data is kept.\n",
    "\n",
    "What is GITHUB : https://en.wikipedia.org/wiki/GitHub\n",
    "\n",
    "Documentation : https://pygithub.readthedocs.io/en/latest/"
   ]
  },
  {
   "cell_type": "code",
   "execution_count": 15,
   "metadata": {},
   "outputs": [],
   "source": [
    "from github import Github"
   ]
  },
  {
   "cell_type": "markdown",
   "metadata": {},
   "source": [
    "## GITHUB ACCESS\n",
    "When you import the github library, an object called g needs to be\n",
    "created. This object will represent the github object that we will use\n",
    "to pull data from the github repository. You will be able to pull data\n",
    "from your own personal repository, or any repository that exits in\n",
    "github.\n",
    "\n",
    "This object will be used to access any file or directory within the\n",
    "github \"filesystem\".\n",
    "\n",
    "For this access to occur you need to insert your personal github\n",
    "username and password. If you dont have one, you would need to creat a\n",
    "github account. Please note that the fields below are exactly what\n",
    "you would enter when prompted when logging into the github site."
   ]
  },
  {
   "cell_type": "code",
   "execution_count": 16,
   "metadata": {},
   "outputs": [],
   "source": [
    "# Replace with your login\n",
    "#\n",
    "#g = Github(\"username\", \"password\")"
   ]
  },
  {
   "cell_type": "markdown",
   "metadata": {},
   "source": [
    "In the following command we create another object called\n",
    "repo (short for repository of files), and assign it to a specific\n",
    "repository. Specifically the PHD repository located at:\n",
    "https://github.com/ehsintegration/yfd-phd-bls-data"
   ]
  },
  {
   "cell_type": "code",
   "execution_count": 17,
   "metadata": {},
   "outputs": [],
   "source": [
    "repo = g.get_repo(\"ehsintegration/yfd-phd-bls-data\")"
   ]
  },
  {
   "cell_type": "code",
   "execution_count": 18,
   "metadata": {},
   "outputs": [
    {
     "name": "stdout",
     "output_type": "stream",
     "text": [
      "[ContentFile(path=\"D2-documentation\"), ContentFile(path=\"DATA\"), ContentFile(path=\"PLOTS\"), ContentFile(path=\"README.md\"), ContentFile(path=\"scripts\")]\n",
      "ContentFile(path=\"D2-documentation\")\n",
      "ContentFile(path=\"DATA\")\n",
      "ContentFile(path=\"PLOTS\")\n",
      "ContentFile(path=\"README.md\")\n",
      "ContentFile(path=\"scripts\")\n"
     ]
    }
   ],
   "source": [
    "contents = repo.get_contents(\"\")\n",
    "print(contents)\n",
    "for index in contents:\n",
    "    print(index)"
   ]
  },
  {
   "cell_type": "markdown",
   "metadata": {},
   "source": [
    "## Get List of Files\n",
    "Get the list of files from the directory that we are interested in,\n",
    "the DATA folder\n"
   ]
  },
  {
   "cell_type": "code",
   "execution_count": 27,
   "metadata": {},
   "outputs": [
    {
     "name": "stdout",
     "output_type": "stream",
     "text": [
      "37\n"
     ]
    }
   ],
   "source": [
    "contents = repo.get_contents(\"DATA\")\n",
    "count = 1\n",
    "for index in contents:\n",
    "    url = index.download_url\n",
    "    #print(url)\n",
    "    count = count + 1\n",
    "print(count)"
   ]
  },
  {
   "cell_type": "markdown",
   "metadata": {},
   "source": [
    "## Use HTTP Access to grab the files\n",
    "Here we are pulling in another object called BS4, which stands for\n",
    "Beautiful Soup 4. We will use the Beautiful Soup Object to fetch web data.\n",
    "Beautiful soup is normally used to parse HTML, but we are just using\n",
    "it to download the file and convert it to a string. "
   ]
  },
  {
   "cell_type": "code",
   "execution_count": 28,
   "metadata": {},
   "outputs": [],
   "source": [
    "import bs4 as bs\n",
    "import urllib.request"
   ]
  },
  {
   "cell_type": "markdown",
   "metadata": {},
   "source": [
    "## Create SOC dictionary"
   ]
  },
  {
   "cell_type": "code",
   "execution_count": 29,
   "metadata": {},
   "outputs": [
    {
     "name": "stdout",
     "output_type": "stream",
     "text": [
      "https://raw.githubusercontent.com/ehsintegration/yfd-phd-bls-data/master/DATA/SOC_all.csv\n"
     ]
    }
   ],
   "source": [
    "# pull in the list of SOC industry codes\n",
    "soc = []\n",
    "\n",
    "desired_file = \"SOC_all.csv\"\n",
    "\n",
    "# Iterate through all of the URLs\n",
    "for index in contents:\n",
    "    url = index.download_url\n",
    "    \n",
    "    # Is content_file a file with the .csv extension\n",
    "    if (desired_file in url):\n",
    "        print(url)\n",
    "        \n",
    "        # Grab the source contents of the file\n",
    "        source = urllib.request.urlopen(url).read()\n",
    "        \n",
    "        #print(source)\n",
    "        decoded_data = source.decode(\"utf-8\")\n",
    "        soc.append(decoded_data)   \n",
    "\n",
    "#print(soc)"
   ]
  },
  {
   "cell_type": "code",
   "execution_count": 30,
   "metadata": {},
   "outputs": [],
   "source": [
    "# Create a dictionary of soc_codes\n",
    "#\n",
    "soc_dict = {}\n",
    "\n",
    "line = soc[0].replace(\"\\\"\",\"\")\n",
    "soc_array= line.split(\"\\n\")\n",
    "\n",
    "# Create Dictionary of SOC codes\n",
    "#\n",
    "for line in soc_array:\n",
    "    key  = line[0:7].replace(\"-\",\"\")\n",
    "    data = line[9:]\n",
    "    soc_dict.setdefault(key, []).append(data)\n",
    "    \n",
    "#index = 0\n",
    "#for key in soc_dict:\n",
    "#    print(index, key, soc_dict[key])\n",
    "#    index = index + 1"
   ]
  },
  {
   "cell_type": "code",
   "execution_count": 31,
   "metadata": {},
   "outputs": [],
   "source": [
    "#print(soc_array)"
   ]
  },
  {
   "cell_type": "code",
   "execution_count": 32,
   "metadata": {},
   "outputs": [
    {
     "name": "stdout",
     "output_type": "stream",
     "text": [
      "global_y_soc1 found.\n"
     ]
    }
   ],
   "source": [
    "try:\n",
    "    if (len(global_y_soc1) >= 0):\n",
    "        print(\"global_y_soc1 found.\")\n",
    "except:\n",
    "    print(\"global_y_soc1 not found....defining\")\n",
    "    #global_y_soc1=np.zeros(23)\n",
    "    global_y_soc1 = []"
   ]
  },
  {
   "cell_type": "code",
   "execution_count": 33,
   "metadata": {},
   "outputs": [],
   "source": [
    "#del global_y_soc1"
   ]
  },
  {
   "cell_type": "code",
   "execution_count": 34,
   "metadata": {},
   "outputs": [],
   "source": [
    "#global_y_soc1=np.zeros(23)"
   ]
  },
  {
   "cell_type": "code",
   "execution_count": null,
   "metadata": {},
   "outputs": [],
   "source": []
  }
 ],
 "metadata": {
  "kernelspec": {
   "display_name": "Python 3",
   "language": "python",
   "name": "python3"
  },
  "language_info": {
   "codemirror_mode": {
    "name": "ipython",
    "version": 3
   },
   "file_extension": ".py",
   "mimetype": "text/x-python",
   "name": "python",
   "nbconvert_exporter": "python",
   "pygments_lexer": "ipython3",
   "version": "3.7.6"
  }
 },
 "nbformat": 4,
 "nbformat_minor": 4
}
