{
 "cells": [
  {
   "cell_type": "markdown",
   "metadata": {},
   "source": [
    "## Load common-code\n",
    "Load code that enables GIT access and grabs all category names\n"
   ]
  },
  {
   "cell_type": "code",
   "execution_count": 82,
   "metadata": {},
   "outputs": [
    {
     "name": "stdout",
     "output_type": "stream",
     "text": [
      "[ContentFile(path=\"D2-documentation\"), ContentFile(path=\"DATA\"), ContentFile(path=\"README.md\"), ContentFile(path=\"scripts\")]\n",
      "ContentFile(path=\"D2-documentation\")\n",
      "ContentFile(path=\"DATA\")\n",
      "ContentFile(path=\"README.md\")\n",
      "ContentFile(path=\"scripts\")\n",
      "https://raw.githubusercontent.com/ehsintegration/yfd-phd-bls-data/master/DATA/FATAL_all.csv\n",
      "https://raw.githubusercontent.com/ehsintegration/yfd-phd-bls-data/master/DATA/NF_AGE_14to15_all.csv\n",
      "https://raw.githubusercontent.com/ehsintegration/yfd-phd-bls-data/master/DATA/NF_AGE_16to19_all.csv\n",
      "https://raw.githubusercontent.com/ehsintegration/yfd-phd-bls-data/master/DATA/NF_AGE_20to24_all.csv\n",
      "https://raw.githubusercontent.com/ehsintegration/yfd-phd-bls-data/master/DATA/NF_AGE_25to34_all.csv\n",
      "https://raw.githubusercontent.com/ehsintegration/yfd-phd-bls-data/master/DATA/NF_AGE_35to44_all.csv\n",
      "https://raw.githubusercontent.com/ehsintegration/yfd-phd-bls-data/master/DATA/NF_AGE_45to54_all.csv\n",
      "https://raw.githubusercontent.com/ehsintegration/yfd-phd-bls-data/master/DATA/NF_AGE_55to64_all.csv\n",
      "https://raw.githubusercontent.com/ehsintegration/yfd-phd-bls-data/master/DATA/NF_AGE_65plus_all.csv\n",
      "https://raw.githubusercontent.com/ehsintegration/yfd-phd-bls-data/master/DATA/NF_AGE_NR_all.csv\n",
      "https://raw.githubusercontent.com/ehsintegration/yfd-phd-bls-data/master/DATA/NF_E1X_In_UnIn_Animal_all.csv\n",
      "https://raw.githubusercontent.com/ehsintegration/yfd-phd-bls-data/master/DATA/NF_E2X_Transportion_all.csv\n",
      "https://raw.githubusercontent.com/ehsintegration/yfd-phd-bls-data/master/DATA/NF_E3X_Fire_Explosion_all.csv\n",
      "https://raw.githubusercontent.com/ehsintegration/yfd-phd-bls-data/master/DATA/NF_E4X_Falls_Slip_Trip_all.csv\n",
      "https://raw.githubusercontent.com/ehsintegration/yfd-phd-bls-data/master/DATA/NF_E5X_Exposure_all.csv\n",
      "https://raw.githubusercontent.com/ehsintegration/yfd-phd-bls-data/master/DATA/NF_E6X_Contact_all.csv\n",
      "https://raw.githubusercontent.com/ehsintegration/yfd-phd-bls-data/master/DATA/NF_E7X_Overex_all.csv\n",
      "https://raw.githubusercontent.com/ehsintegration/yfd-phd-bls-data/master/DATA/NF_EXX_All_other_all.csv\n",
      "https://raw.githubusercontent.com/ehsintegration/yfd-phd-bls-data/master/DATA/NF_GENDER_F_all.csv\n",
      "https://raw.githubusercontent.com/ehsintegration/yfd-phd-bls-data/master/DATA/NF_GENDER_M_all.csv\n",
      "https://raw.githubusercontent.com/ehsintegration/yfd-phd-bls-data/master/DATA/NF_GENDER_NR_all.csv\n",
      "https://raw.githubusercontent.com/ehsintegration/yfd-phd-bls-data/master/DATA/NF_LOS_1to5yr_all.csv\n",
      "https://raw.githubusercontent.com/ehsintegration/yfd-phd-bls-data/master/DATA/NF_LOS_3to11mos_all.csv\n",
      "https://raw.githubusercontent.com/ehsintegration/yfd-phd-bls-data/master/DATA/NF_LOS_5plus_all.csv\n",
      "https://raw.githubusercontent.com/ehsintegration/yfd-phd-bls-data/master/DATA/NF_LOS_NR_all.csv\n",
      "https://raw.githubusercontent.com/ehsintegration/yfd-phd-bls-data/master/DATA/NF_LOS_ltg3mos_all.csv\n",
      "https://raw.githubusercontent.com/ehsintegration/yfd-phd-bls-data/master/DATA/NF_RAX_AmericanIndian_AlaskaNative_all.csv\n",
      "https://raw.githubusercontent.com/ehsintegration/yfd-phd-bls-data/master/DATA/NF_RBX_Asian_all.csv\n",
      "https://raw.githubusercontent.com/ehsintegration/yfd-phd-bls-data/master/DATA/NF_RCX_Black_AfricanAmerican_all.csv\n",
      "https://raw.githubusercontent.com/ehsintegration/yfd-phd-bls-data/master/DATA/NF_RDX_Hispanic_all.csv\n",
      "https://raw.githubusercontent.com/ehsintegration/yfd-phd-bls-data/master/DATA/NF_REX_Hawaiian_all.csv\n",
      "https://raw.githubusercontent.com/ehsintegration/yfd-phd-bls-data/master/DATA/NF_RFX_White_all.csv\n",
      "https://raw.githubusercontent.com/ehsintegration/yfd-phd-bls-data/master/DATA/NF_RGX_NR_all.csv\n",
      "https://raw.githubusercontent.com/ehsintegration/yfd-phd-bls-data/master/DATA/NF_RHX_Multi_all.csv\n",
      "https://raw.githubusercontent.com/ehsintegration/yfd-phd-bls-data/master/DATA/NF_RIX_Hispanic_all.csv\n",
      "https://raw.githubusercontent.com/ehsintegration/yfd-phd-bls-data/master/DATA/SOC_all.csv\n",
      "37\n",
      "https://raw.githubusercontent.com/ehsintegration/yfd-phd-bls-data/master/DATA/SOC_all.csv\n"
     ]
    }
   ],
   "source": [
    "%run ./common-code.ipynb"
   ]
  },
  {
   "cell_type": "markdown",
   "metadata": {},
   "source": [
    "## Create dict of SOC category names\n"
   ]
  },
  {
   "cell_type": "code",
   "execution_count": 83,
   "metadata": {},
   "outputs": [],
   "source": [
    "soc_names = {}\n",
    "\n",
    "#print(soc_array)\n",
    "for elem in soc_array:\n",
    "    if (elem.find(\"-\")>=0):\n",
    "        line  = elem.replace(\"-\",\"\")\n",
    "        #print(line)\n",
    "        key   = line.split(\" \",1)[0]\n",
    "        value = line.split(\" \",1)[1].lstrip().rstrip()    \n",
    "        soc_names.setdefault(key, []).append(value)\n",
    "\n",
    "#index = 0\n",
    "#for key in soc_names:\n",
    "#    print(index, key, soc_names[key])\n",
    "#    index = index + 1"
   ]
  },
  {
   "cell_type": "markdown",
   "metadata": {},
   "source": [
    "## Select Generic Database to work with"
   ]
  },
  {
   "cell_type": "code",
   "execution_count": 84,
   "metadata": {},
   "outputs": [],
   "source": [
    "fatalDB = []\n",
    "\n",
    "desired_file = \"FATAL_all.csv\""
   ]
  },
  {
   "cell_type": "markdown",
   "metadata": {},
   "source": [
    "## Create FATAL dictionary"
   ]
  },
  {
   "cell_type": "code",
   "execution_count": 85,
   "metadata": {},
   "outputs": [
    {
     "name": "stdout",
     "output_type": "stream",
     "text": [
      "https://raw.githubusercontent.com/ehsintegration/yfd-phd-bls-data/master/DATA/FATAL_all.csv\n"
     ]
    }
   ],
   "source": [
    "# pull in the data\n",
    "# Iterate through all of the URLs\n",
    "for index in contents:\n",
    "    url = index.download_url\n",
    "    \n",
    "    # Is content_file a file with the .csv extension\n",
    "    if (desired_file in url):\n",
    "        print(url)\n",
    "        \n",
    "        # Grab the source contents of the file\n",
    "        source = urllib.request.urlopen(url).read()\n",
    "        \n",
    "        #print(source)\n",
    "        decoded_data = source.decode(\"utf-8\")\n",
    "        fatalDB.append(decoded_data)   "
   ]
  },
  {
   "cell_type": "code",
   "execution_count": 86,
   "metadata": {},
   "outputs": [],
   "source": [
    "# Create a dictionary of soc_codes\n",
    "#\n",
    "fatalDB_dict = {}\n",
    "\n",
    "line = fatalDB[0].replace(\"\\\"\",\"\")\n",
    "fatalDB_array= line.split(\"\\n\")\n",
    "\n",
    "#print(fatalDB_array)\n",
    "\n",
    "# Create Dictionary of SOC codes\n",
    "#\n",
    "for line in fatalDB_array[12:]:\n",
    "    line_array = line.split(\",\")\n",
    "    #key  = line_array[0].    [0:7].replace(\"-\",\"\")\n",
    "    key  = line_array[0][6:12]\n",
    "    data = line_array[1:]\n",
    "    #print(line_array)\n",
    "    \n",
    "    # Replace empty values with zero\n",
    "    if (len(key) > 1):\n",
    "        #print(key,data[0:8])\n",
    "        for index in range(0,8):\n",
    "            if (len(data[index]) == 0):\n",
    "                data[index] = '0'\n",
    "        #print(key,data[0:8])\n",
    "        \n",
    "    # Convert to Integers\n",
    "    if (len(key) > 1):\n",
    "        #print(key,data[0:8])\n",
    "        for index in range(0,8):\n",
    "            data[index] = int(data[index])\n",
    "        #print(key,data[0:8])   \n",
    "            \n",
    "    # Create dictionary entry\n",
    "    if (len(key) > 1):\n",
    "        fatalDB_dict.setdefault(key, []).append(data[0:8])\n",
    "    \n",
    "#index = 0\n",
    "#for key in fatalDB_dict:\n",
    "#    print(index, key, fatalDB_dict[key])\n",
    "#    index = index + 1"
   ]
  },
  {
   "cell_type": "code",
   "execution_count": 87,
   "metadata": {},
   "outputs": [
    {
     "name": "stdout",
     "output_type": "stream",
     "text": [
      "[4693, 4628, 4585, 4821, 4836, 5190, 5147, 5250]\n"
     ]
    }
   ],
   "source": [
    "print(fatalDB_dict['000000'][0])"
   ]
  },
  {
   "cell_type": "markdown",
   "metadata": {},
   "source": [
    "## Create SOC level Groups\n",
    "Create SOC Level Groups for SOC work groups as a dictionary of keys\n",
    "\n",
    "Level 1 \"11XXXX\", \"12XXXX\"....<br>\n",
    "Level 2 \"110XXX\", \"111XXX\", \"120XXX\"...<br>\n",
    "Level 3 \"1101XX\", \"1102XX\", \"1201XX\"......<br>"
   ]
  },
  {
   "cell_type": "code",
   "execution_count": 88,
   "metadata": {},
   "outputs": [],
   "source": [
    "level1_sockeys = {}\n",
    "level2_sockeys = {}\n",
    "level3_sockeys = {}\n",
    "\n",
    "for key in soc_dict.keys():\n",
    "    lev1 = key[0:2]\n",
    "    lev2 = key[0:3]\n",
    "    lev3 = key[0:6]\n",
    "    #print(lev1)\n",
    "    level1_sockeys.setdefault(lev1, []).append(key)\n",
    "    level2_sockeys.setdefault(lev2, []).append(key)\n",
    "    level3_sockeys.setdefault(lev3, []).append(key)\n",
    "    \n",
    "#print(level1_sockeys)"
   ]
  },
  {
   "cell_type": "markdown",
   "metadata": {},
   "source": [
    "## Create a count of DATABASE data for the diferent level soc groups"
   ]
  },
  {
   "cell_type": "code",
   "execution_count": 89,
   "metadata": {},
   "outputs": [
    {
     "name": "stdout",
     "output_type": "stream",
     "text": [
      "\n",
      "\n"
     ]
    }
   ],
   "source": [
    "no_fatalDB_data_dict = {}\n",
    "\n",
    "for index in level1_sockeys.keys():\n",
    "    # running fatal_totals for 2011 to 2018\n",
    "    if (len(index) > 0):\n",
    "        fatal_totals = np.array([0,0,0,0,0,0,0,0])\n",
    "        for key in level1_sockeys[index]:\n",
    "            if key in fatalDB_dict.keys():\n",
    "                #print(fatalDB_dict[key][0])\n",
    "                fatal_totals = fatal_totals + np.array(fatalDB_dict[key][0])\n",
    "                #print(key,fatalDB_dict[key])\n",
    "            else:\n",
    "                no_fatalDB_data_dict.setdefault(key, []).append(0)\n",
    "                #print(\"No fatalDB data for \", key)\n",
    "        category = soc_names[str(index)+\"0000\"]\n",
    "        #print(index,category,fatal_totals)\n",
    "        \n",
    "print(\"\") \n",
    "\n",
    "for index in level2_sockeys.keys():\n",
    "    # running fatal_totals for 2011 to 2018\n",
    "    if (len(index) > 0):\n",
    "        fatal_totals = np.array([0,0,0,0,0,0,0,0])\n",
    "        for key in level2_sockeys[index]:        \n",
    "            if key in fatalDB_dict.keys():\n",
    "                #print(fatalDB_dict[key][0])\n",
    "                fatal_totals = fatal_totals + np.array(fatalDB_dict[key][0])\n",
    "                #print(key,fatalDB_dict[key])\n",
    "            else:\n",
    "                no_fatalDB_data_dict.setdefault(key, []).append(0)\n",
    "                #print(\"No fatalDB data for \", key)\n",
    "        #category = soc_names[str(index)+\"000\"]\n",
    "        #print(index,fatal_totals)\n",
    "        \n",
    "print(\"\") \n",
    "\n",
    "for index in level3_sockeys.keys():\n",
    "    # running fatal_totals for 2011 to 2018\n",
    "    if (len(index) > 0):\n",
    "        fatal_totals = np.array([0,0,0,0,0,0,0,0])\n",
    "        for key in level3_sockeys[index]:\n",
    "            if key in fatalDB_dict.keys():\n",
    "                #print(fatalDB_dict[key][0])\n",
    "                fatal_totals = fatal_totals + np.array(fatalDB_dict[key][0])\n",
    "                #print(key,fatalDB_dict[key])\n",
    "            else:\n",
    "                no_fatalDB_data_dict.setdefault(key, []).append(0)\n",
    "                #print(\"No fatalDB data for \", key)\n",
    "        category = soc_names[str(index)]\n",
    "        #print(index,category,fatal_totals)\n",
    "        \n",
    "#print(no_fatalDB_data_dict.keys())"
   ]
  },
  {
   "cell_type": "code",
   "execution_count": null,
   "metadata": {},
   "outputs": [],
   "source": []
  },
  {
   "cell_type": "code",
   "execution_count": null,
   "metadata": {},
   "outputs": [],
   "source": []
  }
 ],
 "metadata": {
  "kernelspec": {
   "display_name": "Python 3",
   "language": "python",
   "name": "python3"
  },
  "language_info": {
   "codemirror_mode": {
    "name": "ipython",
    "version": 3
   },
   "file_extension": ".py",
   "mimetype": "text/x-python",
   "name": "python",
   "nbconvert_exporter": "python",
   "pygments_lexer": "ipython3",
   "version": "3.7.6"
  }
 },
 "nbformat": 4,
 "nbformat_minor": 4
}
